{
 "cells": [
  {
   "cell_type": "code",
   "execution_count": 1,
   "id": "a8abea91",
   "metadata": {},
   "outputs": [],
   "source": [
    "import pandas as pd\n",
    "import numpy as np"
   ]
  },
  {
   "cell_type": "code",
   "execution_count": 2,
   "id": "17292cd5",
   "metadata": {},
   "outputs": [
    {
     "data": {
      "text/plain": [
       "(3000, 2)"
      ]
     },
     "execution_count": 2,
     "metadata": {},
     "output_type": "execute_result"
    }
   ],
   "source": [
    "data = pd.read_csv('Precily_Text_Similarity.csv')\n",
    "data.shape"
   ]
  },
  {
   "cell_type": "code",
   "execution_count": 6,
   "id": "61482c0f",
   "metadata": {},
   "outputs": [
    {
     "data": {
      "text/html": [
       "<div>\n",
       "<style scoped>\n",
       "    .dataframe tbody tr th:only-of-type {\n",
       "        vertical-align: middle;\n",
       "    }\n",
       "\n",
       "    .dataframe tbody tr th {\n",
       "        vertical-align: top;\n",
       "    }\n",
       "\n",
       "    .dataframe thead th {\n",
       "        text-align: right;\n",
       "    }\n",
       "</style>\n",
       "<table border=\"1\" class=\"dataframe\">\n",
       "  <thead>\n",
       "    <tr style=\"text-align: right;\">\n",
       "      <th></th>\n",
       "      <th>text1</th>\n",
       "      <th>text2</th>\n",
       "    </tr>\n",
       "  </thead>\n",
       "  <tbody>\n",
       "    <tr>\n",
       "      <th>32</th>\n",
       "      <td>lib dems demand new inquiry a judge should loo...</td>\n",
       "      <td>teenagers to be allowed to be mps teenagers wi...</td>\n",
       "    </tr>\n",
       "    <tr>\n",
       "      <th>2602</th>\n",
       "      <td>gamer buys $26 500 virtual land a 22-year-old ...</td>\n",
       "      <td>german jobless rate at new record more than 5....</td>\n",
       "    </tr>\n",
       "    <tr>\n",
       "      <th>27</th>\n",
       "      <td>new foot and mouth action urged a senior tory ...</td>\n",
       "      <td>barbarians 19-47 new zealand new zealand prove...</td>\n",
       "    </tr>\n",
       "    <tr>\n",
       "      <th>2889</th>\n",
       "      <td>mayor will not retract nazi jibe london mayor ...</td>\n",
       "      <td>lib dems  new election pr chief the lib dems h...</td>\n",
       "    </tr>\n",
       "    <tr>\n",
       "      <th>294</th>\n",
       "      <td>ukip s secret weapon  by any measure  new york...</td>\n",
       "      <td>israeli club look to africa four african playe...</td>\n",
       "    </tr>\n",
       "  </tbody>\n",
       "</table>\n",
       "</div>"
      ],
      "text/plain": [
       "                                                  text1  \\\n",
       "32    lib dems demand new inquiry a judge should loo...   \n",
       "2602  gamer buys $26 500 virtual land a 22-year-old ...   \n",
       "27    new foot and mouth action urged a senior tory ...   \n",
       "2889  mayor will not retract nazi jibe london mayor ...   \n",
       "294   ukip s secret weapon  by any measure  new york...   \n",
       "\n",
       "                                                  text2  \n",
       "32    teenagers to be allowed to be mps teenagers wi...  \n",
       "2602  german jobless rate at new record more than 5....  \n",
       "27    barbarians 19-47 new zealand new zealand prove...  \n",
       "2889  lib dems  new election pr chief the lib dems h...  \n",
       "294   israeli club look to africa four african playe...  "
      ]
     },
     "execution_count": 6,
     "metadata": {},
     "output_type": "execute_result"
    }
   ],
   "source": [
    "data.sample(5)"
   ]
  },
  {
   "cell_type": "code",
   "execution_count": 5,
   "id": "0fe13301",
   "metadata": {},
   "outputs": [],
   "source": [
    "from sklearn.metrics.pairwise import cosine_similarity\n",
    "import spacy\n",
    "nlp = spacy.load(\"en_core_web_sm\")\n",
    "\n",
    "def text_processing(sentence):\n",
    "    \"\"\"\n",
    "    Lemmatize, lowercase, remove numbers and stop words\n",
    "    \n",
    "    Args:\n",
    "      sentence: The sentence we want to process.\n",
    "    \n",
    "    Returns:\n",
    "      A list of processed words\n",
    "    \"\"\"\n",
    "    sentence = [token.lemma_.lower()\n",
    "                for token in nlp(sentence) \n",
    "                if token.is_alpha and not token.is_stop]\n",
    "    \n",
    "    return sentence\n",
    "\n",
    "\n",
    "def cos_sim(sentence1_emb, sentence2_emb):\n",
    "    \"\"\"\n",
    "    Cosine similarity between two columns of sentence embeddings\n",
    "    \n",
    "    Args:\n",
    "      sentence1_emb: sentence1 embedding column\n",
    "      sentence2_emb: sentence2 embedding column\n",
    "    \n",
    "    Returns:\n",
    "      The row-wise cosine similarity between the two columns.\n",
    "      For instance is sentence1_emb=[a,b,c] and sentence2_emb=[x,y,z]\n",
    "      Then the result is [cosine_similarity(a,x), cosine_similarity(b,y), cosine_similarity(c,z)]\n",
    "    \"\"\"\n",
    "    cos_sim = cosine_similarity(sentence1_emb, sentence2_emb)\n",
    "    return np.diag(cos_sim)"
   ]
  },
  {
   "cell_type": "code",
   "execution_count": 7,
   "id": "c726cd93",
   "metadata": {},
   "outputs": [],
   "source": [
    "import textdistance\n",
    "\n",
    "def jac_sim(rows):\n",
    "    #Text Processing\n",
    "    sen1 = text_processing(rows['text1'])\n",
    "    sen2 = text_processing(rows['text2'])\n",
    "    # jaccard similarity\n",
    "    return textdistance.jaccard.normalized_similarity(sen1, sen2)"
   ]
  },
  {
   "cell_type": "code",
   "execution_count": 9,
   "id": "36b55776",
   "metadata": {},
   "outputs": [
    {
     "data": {
      "text/plain": [
       "0.045454545454545414"
      ]
     },
     "execution_count": 9,
     "metadata": {},
     "output_type": "execute_result"
    }
   ],
   "source": [
    "jac_sim(data.loc[0])"
   ]
  },
  {
   "cell_type": "code",
   "execution_count": 8,
   "id": "9de10aa7",
   "metadata": {},
   "outputs": [
    {
     "data": {
      "text/html": [
       "<div>\n",
       "<style scoped>\n",
       "    .dataframe tbody tr th:only-of-type {\n",
       "        vertical-align: middle;\n",
       "    }\n",
       "\n",
       "    .dataframe tbody tr th {\n",
       "        vertical-align: top;\n",
       "    }\n",
       "\n",
       "    .dataframe thead th {\n",
       "        text-align: right;\n",
       "    }\n",
       "</style>\n",
       "<table border=\"1\" class=\"dataframe\">\n",
       "  <thead>\n",
       "    <tr style=\"text-align: right;\">\n",
       "      <th></th>\n",
       "      <th>text1</th>\n",
       "      <th>text2</th>\n",
       "      <th>Jaccard_Similarity</th>\n",
       "    </tr>\n",
       "  </thead>\n",
       "  <tbody>\n",
       "    <tr>\n",
       "      <th>0</th>\n",
       "      <td>broadband challenges tv viewing the number of ...</td>\n",
       "      <td>gardener wins double in glasgow britain s jaso...</td>\n",
       "      <td>0.045455</td>\n",
       "    </tr>\n",
       "    <tr>\n",
       "      <th>1</th>\n",
       "      <td>rap boss arrested over drug find rap mogul mar...</td>\n",
       "      <td>amnesty chief laments war failure the lack of ...</td>\n",
       "      <td>0.022670</td>\n",
       "    </tr>\n",
       "    <tr>\n",
       "      <th>2</th>\n",
       "      <td>player burn-out worries robinson england coach...</td>\n",
       "      <td>hanks greeted at wintry premiere hollywood sta...</td>\n",
       "      <td>0.036145</td>\n",
       "    </tr>\n",
       "    <tr>\n",
       "      <th>3</th>\n",
       "      <td>hearts of oak 3-2 cotonsport hearts of oak set...</td>\n",
       "      <td>redford s vision of sundance despite sporting ...</td>\n",
       "      <td>0.030457</td>\n",
       "    </tr>\n",
       "    <tr>\n",
       "      <th>4</th>\n",
       "      <td>sir paul rocks super bowl crowds sir paul mcca...</td>\n",
       "      <td>mauresmo opens with victory in la amelie maure...</td>\n",
       "      <td>0.047264</td>\n",
       "    </tr>\n",
       "    <tr>\n",
       "      <th>...</th>\n",
       "      <td>...</td>\n",
       "      <td>...</td>\n",
       "      <td>...</td>\n",
       "    </tr>\n",
       "    <tr>\n",
       "      <th>2995</th>\n",
       "      <td>uk directors guild nominees named martin scors...</td>\n",
       "      <td>steel firm  to cut  45 000 jobs mittal steel  ...</td>\n",
       "      <td>0.016611</td>\n",
       "    </tr>\n",
       "    <tr>\n",
       "      <th>2996</th>\n",
       "      <td>u2 to play at grammy awards show irish rock ba...</td>\n",
       "      <td>israel looks to us for bank chief israel has a...</td>\n",
       "      <td>0.034632</td>\n",
       "    </tr>\n",
       "    <tr>\n",
       "      <th>2997</th>\n",
       "      <td>pountney handed ban and fine northampton coach...</td>\n",
       "      <td>india and iran in gas export deal india has si...</td>\n",
       "      <td>0.013575</td>\n",
       "    </tr>\n",
       "    <tr>\n",
       "      <th>2998</th>\n",
       "      <td>belle named  best scottish band  belle &amp; sebas...</td>\n",
       "      <td>mido makes third apology ahmed  mido  hossam h...</td>\n",
       "      <td>0.061350</td>\n",
       "    </tr>\n",
       "    <tr>\n",
       "      <th>2999</th>\n",
       "      <td>criminal probe on citigroup deals traders at u...</td>\n",
       "      <td>former ni minister scott dies former northern ...</td>\n",
       "      <td>0.043614</td>\n",
       "    </tr>\n",
       "  </tbody>\n",
       "</table>\n",
       "<p>3000 rows × 3 columns</p>\n",
       "</div>"
      ],
      "text/plain": [
       "                                                  text1  \\\n",
       "0     broadband challenges tv viewing the number of ...   \n",
       "1     rap boss arrested over drug find rap mogul mar...   \n",
       "2     player burn-out worries robinson england coach...   \n",
       "3     hearts of oak 3-2 cotonsport hearts of oak set...   \n",
       "4     sir paul rocks super bowl crowds sir paul mcca...   \n",
       "...                                                 ...   \n",
       "2995  uk directors guild nominees named martin scors...   \n",
       "2996  u2 to play at grammy awards show irish rock ba...   \n",
       "2997  pountney handed ban and fine northampton coach...   \n",
       "2998  belle named  best scottish band  belle & sebas...   \n",
       "2999  criminal probe on citigroup deals traders at u...   \n",
       "\n",
       "                                                  text2  Jaccard_Similarity  \n",
       "0     gardener wins double in glasgow britain s jaso...            0.045455  \n",
       "1     amnesty chief laments war failure the lack of ...            0.022670  \n",
       "2     hanks greeted at wintry premiere hollywood sta...            0.036145  \n",
       "3     redford s vision of sundance despite sporting ...            0.030457  \n",
       "4     mauresmo opens with victory in la amelie maure...            0.047264  \n",
       "...                                                 ...                 ...  \n",
       "2995  steel firm  to cut  45 000 jobs mittal steel  ...            0.016611  \n",
       "2996  israel looks to us for bank chief israel has a...            0.034632  \n",
       "2997  india and iran in gas export deal india has si...            0.013575  \n",
       "2998  mido makes third apology ahmed  mido  hossam h...            0.061350  \n",
       "2999  former ni minister scott dies former northern ...            0.043614  \n",
       "\n",
       "[3000 rows x 3 columns]"
      ]
     },
     "execution_count": 8,
     "metadata": {},
     "output_type": "execute_result"
    }
   ],
   "source": [
    "data['Jaccard_Similarity'] = data.apply(jac_sim, axis=1)\n",
    "data"
   ]
  },
  {
   "cell_type": "code",
   "execution_count": 16,
   "id": "4721e6db",
   "metadata": {},
   "outputs": [
    {
     "data": {
      "text/plain": [
       "'belle named  best scottish band  belle & sebastian have been named the best scottish band of all time after a three month-long public poll.  the group beat travis and idlewild into second and third place respectively. franz ferdinand  who recently picked up five brit award nominations  ended up in 15th place  while the eurythmics wound up at a lowly 38. other scottish acts  such as the mull historical society who also featured in the top 50  performed at a party in glasgow where the result was announced. scottish-based band snow patrol  who finished 14th in the vote and have been nominated for a pair of brit awards  were among the performers who covered well-known scottish pop songs at the party on wednesday night.  indie stalwarts belle & sebastian have enjoyed a chart career stretching back to 1997. they were the surprise winners of the brit award for best breakthrough act two years later. scottish bands from earlier musical eras also made it into the final list  including 1970s tartan boy band the bay city rollers and goth favourites the jesus and mary chain.  scottish magazine the list recently compiled a list of the top 50 scottish bands of all time  but left the final decision to the public. the magazine s music editor mark robertson said:  the idea behind the project was simple - to rediscover the very best of scottish music  from the finest musical talent spanning from the age of 70s rock through to 80s pop  right up to today s international stars.   everyone has strong opinions about this and we wanted to open it up to the public to decide   he added. bbc radio scotland presenter vic galloway  who has been involved in the project  said it had been  great fun  to look back at scotland s musical heritage and take note of up-and-coming scottish acts.'"
      ]
     },
     "execution_count": 16,
     "metadata": {},
     "output_type": "execute_result"
    }
   ],
   "source": [
    "data.loc[2998]['text1']"
   ]
  },
  {
   "cell_type": "code",
   "execution_count": 17,
   "id": "00052613",
   "metadata": {},
   "outputs": [
    {
     "data": {
      "text/plain": [
       "'mido makes third apology ahmed  mido  hossam has made another apology to the egyptian people in an attempt to rejoin the national team.  the 21-year-old told a news conference in cairo on sunday that he is sorry for the problems that have led to his exclusion from the pharaohs since july last year. mido said:  there isn t much i have to say today  all there is to say is that i came specially from england to egypt to rejoin the national team and to apologise for all my mistakes.  mido was axed by former coach marco tardelli after failing to answer a national call-up  claiming he had a groin injury. but he then played in a friendly for his club as roma within 24 hours of a world cup qualifying match at home to cameroon last september. mido added:  it s not my right to give orders and say when i want to play ... at the same time i will always make sure that i put the national s team s matches as my top priority.  i feel that the national players are playing with a new spirit as i saw them play against belgium (egypt won 4-0 on wednesday) and i simply want to add to their success.  i do confess that i was rude to the egyptian press at times but now i have gained more experience and know that i will never go anywhere without the press s support.  many of the international stars like david beckham and (zinedine) zidane had the press opposing them.  so i m now used to the fact that the press can be against me at times and i don t have to overreact when this happens. meanwhile  egypt fa spokesman methat shalaby welcomed the apology and said no one had exerted pressure on mido to apologise.  mido s apology today does not negatively affect mido in anyway  on the contrary it makes him a bigger star and a role model for all football players   shalaby said. shalaby earlier said that after an apology mido would be available for the national side if coach hassan shehata chose him. mido joined tottenham in an 18-month loan deal near the end of the january transfer window  scoring twice on his debut against portsmouth.'"
      ]
     },
     "execution_count": 17,
     "metadata": {},
     "output_type": "execute_result"
    }
   ],
   "source": [
    "data.loc[2998]['text2']"
   ]
  },
  {
   "cell_type": "code",
   "execution_count": 10,
   "id": "5f140707",
   "metadata": {},
   "outputs": [],
   "source": [
    "# TFIDF\n",
    "data_1 = data.drop('Jaccard_Similarity', axis=1)"
   ]
  },
  {
   "cell_type": "code",
   "execution_count": 22,
   "id": "78f075ba",
   "metadata": {},
   "outputs": [],
   "source": [
    "from sklearn.model_selection import train_test_split\n",
    "\n",
    "data_1_train, data_1_test = train_test_split(data_1, test_size=0.2)"
   ]
  },
  {
   "cell_type": "code",
   "execution_count": 12,
   "id": "0e8d7fd7",
   "metadata": {},
   "outputs": [
    {
     "data": {
      "text/plain": [
       "((2400, 2), (600, 2))"
      ]
     },
     "execution_count": 12,
     "metadata": {},
     "output_type": "execute_result"
    }
   ],
   "source": [
    "data_1_train.shape, data_1_test.shape"
   ]
  },
  {
   "cell_type": "code",
   "execution_count": 23,
   "id": "1241ed43",
   "metadata": {},
   "outputs": [
    {
     "data": {
      "text/html": [
       "<div>\n",
       "<style scoped>\n",
       "    .dataframe tbody tr th:only-of-type {\n",
       "        vertical-align: middle;\n",
       "    }\n",
       "\n",
       "    .dataframe tbody tr th {\n",
       "        vertical-align: top;\n",
       "    }\n",
       "\n",
       "    .dataframe thead th {\n",
       "        text-align: right;\n",
       "    }\n",
       "</style>\n",
       "<table border=\"1\" class=\"dataframe\">\n",
       "  <thead>\n",
       "    <tr style=\"text-align: right;\">\n",
       "      <th></th>\n",
       "      <th>text1</th>\n",
       "      <th>text2</th>\n",
       "    </tr>\n",
       "  </thead>\n",
       "  <tbody>\n",
       "    <tr>\n",
       "      <th>2528</th>\n",
       "      <td>double win for sea inside spanish movie the se...</td>\n",
       "      <td>strike threat over pension plans millions of p...</td>\n",
       "    </tr>\n",
       "    <tr>\n",
       "      <th>2800</th>\n",
       "      <td>day-lewis set for berlin honour actor daniel d...</td>\n",
       "      <td>mandelson warns bbc on campbell the bbc should...</td>\n",
       "    </tr>\n",
       "    <tr>\n",
       "      <th>1563</th>\n",
       "      <td>moody joins up with england lewis moody has fl...</td>\n",
       "      <td>us trade gap hits record in 2004 the gap betwe...</td>\n",
       "    </tr>\n",
       "    <tr>\n",
       "      <th>1516</th>\n",
       "      <td>playstation 3 chip to be unveiled details of t...</td>\n",
       "      <td>germany calls for eu reform german chancellor ...</td>\n",
       "    </tr>\n",
       "    <tr>\n",
       "      <th>1314</th>\n",
       "      <td>o sullivan quick to hail italians ireland coac...</td>\n",
       "      <td>mansfield 0-1 leyton orient an second-half goa...</td>\n",
       "    </tr>\n",
       "    <tr>\n",
       "      <th>...</th>\n",
       "      <td>...</td>\n",
       "      <td>...</td>\n",
       "    </tr>\n",
       "    <tr>\n",
       "      <th>1710</th>\n",
       "      <td>healey targets england comeback leicester wing...</td>\n",
       "      <td>film star fox behind theatre bid leading actor...</td>\n",
       "    </tr>\n",
       "    <tr>\n",
       "      <th>1483</th>\n",
       "      <td>radcliffe proves doubters wrong this won t go ...</td>\n",
       "      <td>thanou bullish over drugs hearing katerina tha...</td>\n",
       "    </tr>\n",
       "    <tr>\n",
       "      <th>1125</th>\n",
       "      <td>musical treatment for capra film the classic f...</td>\n",
       "      <td>games firms  face tough future  uk video game ...</td>\n",
       "    </tr>\n",
       "    <tr>\n",
       "      <th>47</th>\n",
       "      <td>japan bank shares up on link talk shares of su...</td>\n",
       "      <td>satellite mapping aids darfur relief aid worke...</td>\n",
       "    </tr>\n",
       "    <tr>\n",
       "      <th>1092</th>\n",
       "      <td>act on detention ruling  uk urged the governme...</td>\n",
       "      <td>newcastle line up babayaro newcastle manager g...</td>\n",
       "    </tr>\n",
       "  </tbody>\n",
       "</table>\n",
       "<p>600 rows × 2 columns</p>\n",
       "</div>"
      ],
      "text/plain": [
       "                                                  text1  \\\n",
       "2528  double win for sea inside spanish movie the se...   \n",
       "2800  day-lewis set for berlin honour actor daniel d...   \n",
       "1563  moody joins up with england lewis moody has fl...   \n",
       "1516  playstation 3 chip to be unveiled details of t...   \n",
       "1314  o sullivan quick to hail italians ireland coac...   \n",
       "...                                                 ...   \n",
       "1710  healey targets england comeback leicester wing...   \n",
       "1483  radcliffe proves doubters wrong this won t go ...   \n",
       "1125  musical treatment for capra film the classic f...   \n",
       "47    japan bank shares up on link talk shares of su...   \n",
       "1092  act on detention ruling  uk urged the governme...   \n",
       "\n",
       "                                                  text2  \n",
       "2528  strike threat over pension plans millions of p...  \n",
       "2800  mandelson warns bbc on campbell the bbc should...  \n",
       "1563  us trade gap hits record in 2004 the gap betwe...  \n",
       "1516  germany calls for eu reform german chancellor ...  \n",
       "1314  mansfield 0-1 leyton orient an second-half goa...  \n",
       "...                                                 ...  \n",
       "1710  film star fox behind theatre bid leading actor...  \n",
       "1483  thanou bullish over drugs hearing katerina tha...  \n",
       "1125  games firms  face tough future  uk video game ...  \n",
       "47    satellite mapping aids darfur relief aid worke...  \n",
       "1092  newcastle line up babayaro newcastle manager g...  \n",
       "\n",
       "[600 rows x 2 columns]"
      ]
     },
     "execution_count": 23,
     "metadata": {},
     "output_type": "execute_result"
    }
   ],
   "source": [
    "data_1_train.apply(lambda col: col.drop_duplicates().reset_index(drop=True))\n",
    "data_1_test.apply(lambda col: col.drop_duplicates().reset_index(drop=True))\n",
    "data_1_test"
   ]
  },
  {
   "cell_type": "code",
   "execution_count": 25,
   "id": "7eb56039",
   "metadata": {},
   "outputs": [],
   "source": [
    "from sklearn.feature_extraction.text import TfidfVectorizer\n",
    "model = TfidfVectorizer(lowercase=True, stop_words='english')\n",
    "\n",
    "# Train the model\n",
    "X_train = pd.concat([data_1_train['text1'], data_1_train['text2']]).unique()\n",
    "model.fit(X_train)\n",
    "\n",
    "# Generate Embeddings on Test\n",
    "sentence1_emb = model.transform(data_1_test['text1'])\n",
    "sentence2_emb = model.transform(data_1_test['text2'])\n",
    "\n",
    "# Cosine Similarity\n",
    "data_1_test['TFIDF_cosine_score'] = cos_sim(sentence1_emb, sentence2_emb)"
   ]
  },
  {
   "cell_type": "code",
   "execution_count": 27,
   "id": "3cf1c438",
   "metadata": {},
   "outputs": [],
   "source": [
    "from sklearn.feature_extraction.text import TfidfVectorizer\n",
    "model = TfidfVectorizer(lowercase=True, stop_words='english')\n",
    "\n",
    "X_train = pd.concat([data_1['text1'], data_1['text2']]).unique()\n",
    "model.fit(X_train)\n",
    "\n",
    "sentence1_emb = model.transform(data_1['text1'])\n",
    "sentence2_emb = model.transform(data_1['text2'])\n",
    "\n",
    "data_1['TFIDF_cosine_score'] = cos_sim(sentence1_emb, sentence2_emb)"
   ]
  },
  {
   "cell_type": "code",
   "execution_count": 28,
   "id": "bab29c24",
   "metadata": {},
   "outputs": [
    {
     "data": {
      "text/html": [
       "<div>\n",
       "<style scoped>\n",
       "    .dataframe tbody tr th:only-of-type {\n",
       "        vertical-align: middle;\n",
       "    }\n",
       "\n",
       "    .dataframe tbody tr th {\n",
       "        vertical-align: top;\n",
       "    }\n",
       "\n",
       "    .dataframe thead th {\n",
       "        text-align: right;\n",
       "    }\n",
       "</style>\n",
       "<table border=\"1\" class=\"dataframe\">\n",
       "  <thead>\n",
       "    <tr style=\"text-align: right;\">\n",
       "      <th></th>\n",
       "      <th>text1</th>\n",
       "      <th>text2</th>\n",
       "      <th>TFIDF_cosine_score</th>\n",
       "    </tr>\n",
       "  </thead>\n",
       "  <tbody>\n",
       "    <tr>\n",
       "      <th>0</th>\n",
       "      <td>broadband challenges tv viewing the number of ...</td>\n",
       "      <td>gardener wins double in glasgow britain s jaso...</td>\n",
       "      <td>0.058171</td>\n",
       "    </tr>\n",
       "    <tr>\n",
       "      <th>1</th>\n",
       "      <td>rap boss arrested over drug find rap mogul mar...</td>\n",
       "      <td>amnesty chief laments war failure the lack of ...</td>\n",
       "      <td>0.006190</td>\n",
       "    </tr>\n",
       "    <tr>\n",
       "      <th>2</th>\n",
       "      <td>player burn-out worries robinson england coach...</td>\n",
       "      <td>hanks greeted at wintry premiere hollywood sta...</td>\n",
       "      <td>0.006456</td>\n",
       "    </tr>\n",
       "    <tr>\n",
       "      <th>3</th>\n",
       "      <td>hearts of oak 3-2 cotonsport hearts of oak set...</td>\n",
       "      <td>redford s vision of sundance despite sporting ...</td>\n",
       "      <td>0.013339</td>\n",
       "    </tr>\n",
       "    <tr>\n",
       "      <th>4</th>\n",
       "      <td>sir paul rocks super bowl crowds sir paul mcca...</td>\n",
       "      <td>mauresmo opens with victory in la amelie maure...</td>\n",
       "      <td>0.018365</td>\n",
       "    </tr>\n",
       "    <tr>\n",
       "      <th>...</th>\n",
       "      <td>...</td>\n",
       "      <td>...</td>\n",
       "      <td>...</td>\n",
       "    </tr>\n",
       "    <tr>\n",
       "      <th>2995</th>\n",
       "      <td>uk directors guild nominees named martin scors...</td>\n",
       "      <td>steel firm  to cut  45 000 jobs mittal steel  ...</td>\n",
       "      <td>0.002250</td>\n",
       "    </tr>\n",
       "    <tr>\n",
       "      <th>2996</th>\n",
       "      <td>u2 to play at grammy awards show irish rock ba...</td>\n",
       "      <td>israel looks to us for bank chief israel has a...</td>\n",
       "      <td>0.017754</td>\n",
       "    </tr>\n",
       "    <tr>\n",
       "      <th>2997</th>\n",
       "      <td>pountney handed ban and fine northampton coach...</td>\n",
       "      <td>india and iran in gas export deal india has si...</td>\n",
       "      <td>0.004470</td>\n",
       "    </tr>\n",
       "    <tr>\n",
       "      <th>2998</th>\n",
       "      <td>belle named  best scottish band  belle &amp; sebas...</td>\n",
       "      <td>mido makes third apology ahmed  mido  hossam h...</td>\n",
       "      <td>0.012517</td>\n",
       "    </tr>\n",
       "    <tr>\n",
       "      <th>2999</th>\n",
       "      <td>criminal probe on citigroup deals traders at u...</td>\n",
       "      <td>former ni minister scott dies former northern ...</td>\n",
       "      <td>0.014003</td>\n",
       "    </tr>\n",
       "  </tbody>\n",
       "</table>\n",
       "<p>3000 rows × 3 columns</p>\n",
       "</div>"
      ],
      "text/plain": [
       "                                                  text1  \\\n",
       "0     broadband challenges tv viewing the number of ...   \n",
       "1     rap boss arrested over drug find rap mogul mar...   \n",
       "2     player burn-out worries robinson england coach...   \n",
       "3     hearts of oak 3-2 cotonsport hearts of oak set...   \n",
       "4     sir paul rocks super bowl crowds sir paul mcca...   \n",
       "...                                                 ...   \n",
       "2995  uk directors guild nominees named martin scors...   \n",
       "2996  u2 to play at grammy awards show irish rock ba...   \n",
       "2997  pountney handed ban and fine northampton coach...   \n",
       "2998  belle named  best scottish band  belle & sebas...   \n",
       "2999  criminal probe on citigroup deals traders at u...   \n",
       "\n",
       "                                                  text2  TFIDF_cosine_score  \n",
       "0     gardener wins double in glasgow britain s jaso...            0.058171  \n",
       "1     amnesty chief laments war failure the lack of ...            0.006190  \n",
       "2     hanks greeted at wintry premiere hollywood sta...            0.006456  \n",
       "3     redford s vision of sundance despite sporting ...            0.013339  \n",
       "4     mauresmo opens with victory in la amelie maure...            0.018365  \n",
       "...                                                 ...                 ...  \n",
       "2995  steel firm  to cut  45 000 jobs mittal steel  ...            0.002250  \n",
       "2996  israel looks to us for bank chief israel has a...            0.017754  \n",
       "2997  india and iran in gas export deal india has si...            0.004470  \n",
       "2998  mido makes third apology ahmed  mido  hossam h...            0.012517  \n",
       "2999  former ni minister scott dies former northern ...            0.014003  \n",
       "\n",
       "[3000 rows x 3 columns]"
      ]
     },
     "execution_count": 28,
     "metadata": {},
     "output_type": "execute_result"
    }
   ],
   "source": [
    "data_1"
   ]
  },
  {
   "cell_type": "code",
   "execution_count": 26,
   "id": "b9c3cfe3",
   "metadata": {},
   "outputs": [
    {
     "data": {
      "text/html": [
       "<div>\n",
       "<style scoped>\n",
       "    .dataframe tbody tr th:only-of-type {\n",
       "        vertical-align: middle;\n",
       "    }\n",
       "\n",
       "    .dataframe tbody tr th {\n",
       "        vertical-align: top;\n",
       "    }\n",
       "\n",
       "    .dataframe thead th {\n",
       "        text-align: right;\n",
       "    }\n",
       "</style>\n",
       "<table border=\"1\" class=\"dataframe\">\n",
       "  <thead>\n",
       "    <tr style=\"text-align: right;\">\n",
       "      <th></th>\n",
       "      <th>text1</th>\n",
       "      <th>text2</th>\n",
       "      <th>TFIDF_cosine_score</th>\n",
       "    </tr>\n",
       "  </thead>\n",
       "  <tbody>\n",
       "    <tr>\n",
       "      <th>2528</th>\n",
       "      <td>double win for sea inside spanish movie the se...</td>\n",
       "      <td>strike threat over pension plans millions of p...</td>\n",
       "      <td>0.009779</td>\n",
       "    </tr>\n",
       "    <tr>\n",
       "      <th>2800</th>\n",
       "      <td>day-lewis set for berlin honour actor daniel d...</td>\n",
       "      <td>mandelson warns bbc on campbell the bbc should...</td>\n",
       "      <td>0.004350</td>\n",
       "    </tr>\n",
       "    <tr>\n",
       "      <th>1563</th>\n",
       "      <td>moody joins up with england lewis moody has fl...</td>\n",
       "      <td>us trade gap hits record in 2004 the gap betwe...</td>\n",
       "      <td>0.008041</td>\n",
       "    </tr>\n",
       "    <tr>\n",
       "      <th>1516</th>\n",
       "      <td>playstation 3 chip to be unveiled details of t...</td>\n",
       "      <td>germany calls for eu reform german chancellor ...</td>\n",
       "      <td>0.014892</td>\n",
       "    </tr>\n",
       "    <tr>\n",
       "      <th>1314</th>\n",
       "      <td>o sullivan quick to hail italians ireland coac...</td>\n",
       "      <td>mansfield 0-1 leyton orient an second-half goa...</td>\n",
       "      <td>0.069606</td>\n",
       "    </tr>\n",
       "    <tr>\n",
       "      <th>...</th>\n",
       "      <td>...</td>\n",
       "      <td>...</td>\n",
       "      <td>...</td>\n",
       "    </tr>\n",
       "    <tr>\n",
       "      <th>1710</th>\n",
       "      <td>healey targets england comeback leicester wing...</td>\n",
       "      <td>film star fox behind theatre bid leading actor...</td>\n",
       "      <td>0.014793</td>\n",
       "    </tr>\n",
       "    <tr>\n",
       "      <th>1483</th>\n",
       "      <td>radcliffe proves doubters wrong this won t go ...</td>\n",
       "      <td>thanou bullish over drugs hearing katerina tha...</td>\n",
       "      <td>0.050090</td>\n",
       "    </tr>\n",
       "    <tr>\n",
       "      <th>1125</th>\n",
       "      <td>musical treatment for capra film the classic f...</td>\n",
       "      <td>games firms  face tough future  uk video game ...</td>\n",
       "      <td>0.016638</td>\n",
       "    </tr>\n",
       "    <tr>\n",
       "      <th>47</th>\n",
       "      <td>japan bank shares up on link talk shares of su...</td>\n",
       "      <td>satellite mapping aids darfur relief aid worke...</td>\n",
       "      <td>0.025065</td>\n",
       "    </tr>\n",
       "    <tr>\n",
       "      <th>1092</th>\n",
       "      <td>act on detention ruling  uk urged the governme...</td>\n",
       "      <td>newcastle line up babayaro newcastle manager g...</td>\n",
       "      <td>0.009501</td>\n",
       "    </tr>\n",
       "  </tbody>\n",
       "</table>\n",
       "<p>600 rows × 3 columns</p>\n",
       "</div>"
      ],
      "text/plain": [
       "                                                  text1  \\\n",
       "2528  double win for sea inside spanish movie the se...   \n",
       "2800  day-lewis set for berlin honour actor daniel d...   \n",
       "1563  moody joins up with england lewis moody has fl...   \n",
       "1516  playstation 3 chip to be unveiled details of t...   \n",
       "1314  o sullivan quick to hail italians ireland coac...   \n",
       "...                                                 ...   \n",
       "1710  healey targets england comeback leicester wing...   \n",
       "1483  radcliffe proves doubters wrong this won t go ...   \n",
       "1125  musical treatment for capra film the classic f...   \n",
       "47    japan bank shares up on link talk shares of su...   \n",
       "1092  act on detention ruling  uk urged the governme...   \n",
       "\n",
       "                                                  text2  TFIDF_cosine_score  \n",
       "2528  strike threat over pension plans millions of p...            0.009779  \n",
       "2800  mandelson warns bbc on campbell the bbc should...            0.004350  \n",
       "1563  us trade gap hits record in 2004 the gap betwe...            0.008041  \n",
       "1516  germany calls for eu reform german chancellor ...            0.014892  \n",
       "1314  mansfield 0-1 leyton orient an second-half goa...            0.069606  \n",
       "...                                                 ...                 ...  \n",
       "1710  film star fox behind theatre bid leading actor...            0.014793  \n",
       "1483  thanou bullish over drugs hearing katerina tha...            0.050090  \n",
       "1125  games firms  face tough future  uk video game ...            0.016638  \n",
       "47    satellite mapping aids darfur relief aid worke...            0.025065  \n",
       "1092  newcastle line up babayaro newcastle manager g...            0.009501  \n",
       "\n",
       "[600 rows x 3 columns]"
      ]
     },
     "execution_count": 26,
     "metadata": {},
     "output_type": "execute_result"
    }
   ],
   "source": [
    "data_1_test"
   ]
  },
  {
   "cell_type": "code",
   "execution_count": 30,
   "id": "16e95f41",
   "metadata": {},
   "outputs": [
    {
     "name": "stderr",
     "output_type": "stream",
     "text": [
      "[nltk_data] Downloading package punkt to\n",
      "[nltk_data]     C:\\Users\\Ajmer\\AppData\\Roaming\\nltk_data...\n",
      "[nltk_data]   Unzipping tokenizers\\punkt.zip.\n"
     ]
    },
    {
     "name": "stdout",
     "output_type": "stream",
     "text": [
      "0.9999999999999998\n",
      "0.7092972666062738\n",
      "0.0\n"
     ]
    },
    {
     "name": "stderr",
     "output_type": "stream",
     "text": [
      "C:\\Users\\Ajmer\\anaconda3\\envs\\semantic_similarity\\lib\\site-packages\\sklearn\\feature_extraction\\text.py:404: UserWarning: Your stop_words may be inconsistent with your preprocessing. Tokenizing the stop words generated tokens ['abov', 'afterward', 'alon', 'alreadi', 'alway', 'ani', 'anoth', 'anyon', 'anyth', 'anywher', 'becam', 'becaus', 'becom', 'befor', 'besid', 'cri', 'describ', 'dure', 'els', 'elsewher', 'empti', 'everi', 'everyon', 'everyth', 'everywher', 'fifti', 'formerli', 'forti', 'ha', 'henc', 'hereaft', 'herebi', 'hi', 'howev', 'hundr', 'inde', 'latterli', 'mani', 'meanwhil', 'moreov', 'mostli', 'nobodi', 'noon', 'noth', 'nowher', 'onc', 'onli', 'otherwis', 'ourselv', 'perhap', 'pleas', 'seriou', 'sever', 'sinc', 'sincer', 'sixti', 'someon', 'someth', 'sometim', 'somewher', 'themselv', 'thenc', 'thereaft', 'therebi', 'therefor', 'thi', 'thu', 'togeth', 'twelv', 'twenti', 'veri', 'wa', 'whatev', 'whenc', 'whenev', 'wherea', 'whereaft', 'wherebi', 'wherev', 'whi', 'yourselv'] not in stop_words.\n",
      "  warnings.warn(\n"
     ]
    }
   ],
   "source": [
    "import nltk, string\n",
    "from sklearn.feature_extraction.text import TfidfVectorizer\n",
    "\n",
    "nltk.download('punkt') # if necessary...\n",
    "\n",
    "\n",
    "stemmer = nltk.stem.porter.PorterStemmer()\n",
    "remove_punctuation_map = dict((ord(char), None) for char in string.punctuation)\n",
    "\n",
    "def stem_tokens(tokens):\n",
    "    return [stemmer.stem(item) for item in tokens]\n",
    "\n",
    "'''remove punctuation, lowercase, stem'''\n",
    "def normalize(text):\n",
    "    return stem_tokens(nltk.word_tokenize(text.lower().translate(remove_punctuation_map)))\n",
    "\n",
    "vectorizer = TfidfVectorizer(tokenizer=normalize, stop_words='english')\n",
    "\n",
    "def cosine_sim(text1, text2):\n",
    "    tfidf = vectorizer.fit_transform([text1, text2])\n",
    "    return ((tfidf * tfidf.T).A)[0,1]\n",
    "\n",
    "\n",
    "print(cosine_sim('a little bird', 'a little bird'))\n",
    "print(cosine_sim('a little bird', 'a little bird chirps'))\n",
    "print(cosine_sim('a little bird', 'a big dog barks'))"
   ]
  },
  {
   "cell_type": "code",
   "execution_count": 32,
   "id": "d3521cd6",
   "metadata": {},
   "outputs": [
    {
     "name": "stdout",
     "output_type": "stream",
     "text": [
      "0.08894445518721168\n",
      "0.06509250367292911\n",
      "0.05645131454403604\n",
      "0.04902980192520687\n",
      "0.09583909566940436\n",
      "0.09962980334371284\n",
      "0.033419765407882496\n",
      "0.09145585435809597\n",
      "0.0677872982691842\n",
      "0.0566522737931877\n"
     ]
    }
   ],
   "source": [
    "for i in range(10):\n",
    "    print(cosine_sim(data.loc[i]['text1'], data.loc[i]['text2']))"
   ]
  },
  {
   "cell_type": "code",
   "execution_count": 35,
   "id": "9b7a3934",
   "metadata": {},
   "outputs": [
    {
     "data": {
      "text/html": [
       "<div>\n",
       "<style scoped>\n",
       "    .dataframe tbody tr th:only-of-type {\n",
       "        vertical-align: middle;\n",
       "    }\n",
       "\n",
       "    .dataframe tbody tr th {\n",
       "        vertical-align: top;\n",
       "    }\n",
       "\n",
       "    .dataframe thead th {\n",
       "        text-align: right;\n",
       "    }\n",
       "</style>\n",
       "<table border=\"1\" class=\"dataframe\">\n",
       "  <thead>\n",
       "    <tr style=\"text-align: right;\">\n",
       "      <th></th>\n",
       "      <th>text1</th>\n",
       "      <th>text2</th>\n",
       "    </tr>\n",
       "  </thead>\n",
       "  <tbody>\n",
       "    <tr>\n",
       "      <th>0</th>\n",
       "      <td>broadband challenges tv viewing the number of ...</td>\n",
       "      <td>gardener wins double in glasgow britain s jaso...</td>\n",
       "    </tr>\n",
       "    <tr>\n",
       "      <th>1</th>\n",
       "      <td>rap boss arrested over drug find rap mogul mar...</td>\n",
       "      <td>amnesty chief laments war failure the lack of ...</td>\n",
       "    </tr>\n",
       "    <tr>\n",
       "      <th>2</th>\n",
       "      <td>player burn-out worries robinson england coach...</td>\n",
       "      <td>hanks greeted at wintry premiere hollywood sta...</td>\n",
       "    </tr>\n",
       "    <tr>\n",
       "      <th>3</th>\n",
       "      <td>hearts of oak 3-2 cotonsport hearts of oak set...</td>\n",
       "      <td>redford s vision of sundance despite sporting ...</td>\n",
       "    </tr>\n",
       "    <tr>\n",
       "      <th>4</th>\n",
       "      <td>sir paul rocks super bowl crowds sir paul mcca...</td>\n",
       "      <td>mauresmo opens with victory in la amelie maure...</td>\n",
       "    </tr>\n",
       "    <tr>\n",
       "      <th>...</th>\n",
       "      <td>...</td>\n",
       "      <td>...</td>\n",
       "    </tr>\n",
       "    <tr>\n",
       "      <th>2995</th>\n",
       "      <td>uk directors guild nominees named martin scors...</td>\n",
       "      <td>steel firm  to cut  45 000 jobs mittal steel  ...</td>\n",
       "    </tr>\n",
       "    <tr>\n",
       "      <th>2996</th>\n",
       "      <td>u2 to play at grammy awards show irish rock ba...</td>\n",
       "      <td>israel looks to us for bank chief israel has a...</td>\n",
       "    </tr>\n",
       "    <tr>\n",
       "      <th>2997</th>\n",
       "      <td>pountney handed ban and fine northampton coach...</td>\n",
       "      <td>india and iran in gas export deal india has si...</td>\n",
       "    </tr>\n",
       "    <tr>\n",
       "      <th>2998</th>\n",
       "      <td>belle named  best scottish band  belle &amp; sebas...</td>\n",
       "      <td>mido makes third apology ahmed  mido  hossam h...</td>\n",
       "    </tr>\n",
       "    <tr>\n",
       "      <th>2999</th>\n",
       "      <td>criminal probe on citigroup deals traders at u...</td>\n",
       "      <td>former ni minister scott dies former northern ...</td>\n",
       "    </tr>\n",
       "  </tbody>\n",
       "</table>\n",
       "<p>3000 rows × 2 columns</p>\n",
       "</div>"
      ],
      "text/plain": [
       "                                                  text1  \\\n",
       "0     broadband challenges tv viewing the number of ...   \n",
       "1     rap boss arrested over drug find rap mogul mar...   \n",
       "2     player burn-out worries robinson england coach...   \n",
       "3     hearts of oak 3-2 cotonsport hearts of oak set...   \n",
       "4     sir paul rocks super bowl crowds sir paul mcca...   \n",
       "...                                                 ...   \n",
       "2995  uk directors guild nominees named martin scors...   \n",
       "2996  u2 to play at grammy awards show irish rock ba...   \n",
       "2997  pountney handed ban and fine northampton coach...   \n",
       "2998  belle named  best scottish band  belle & sebas...   \n",
       "2999  criminal probe on citigroup deals traders at u...   \n",
       "\n",
       "                                                  text2  \n",
       "0     gardener wins double in glasgow britain s jaso...  \n",
       "1     amnesty chief laments war failure the lack of ...  \n",
       "2     hanks greeted at wintry premiere hollywood sta...  \n",
       "3     redford s vision of sundance despite sporting ...  \n",
       "4     mauresmo opens with victory in la amelie maure...  \n",
       "...                                                 ...  \n",
       "2995  steel firm  to cut  45 000 jobs mittal steel  ...  \n",
       "2996  israel looks to us for bank chief israel has a...  \n",
       "2997  india and iran in gas export deal india has si...  \n",
       "2998  mido makes third apology ahmed  mido  hossam h...  \n",
       "2999  former ni minister scott dies former northern ...  \n",
       "\n",
       "[3000 rows x 2 columns]"
      ]
     },
     "execution_count": 35,
     "metadata": {},
     "output_type": "execute_result"
    }
   ],
   "source": [
    "data_2 = data.iloc[:, :2]\n",
    "data_2"
   ]
  },
  {
   "cell_type": "code",
   "execution_count": null,
   "id": "3d1bf077",
   "metadata": {},
   "outputs": [],
   "source": []
  },
  {
   "cell_type": "code",
   "execution_count": 38,
   "id": "770b6117",
   "metadata": {},
   "outputs": [
    {
     "data": {
      "text/html": [
       "<div>\n",
       "<style scoped>\n",
       "    .dataframe tbody tr th:only-of-type {\n",
       "        vertical-align: middle;\n",
       "    }\n",
       "\n",
       "    .dataframe tbody tr th {\n",
       "        vertical-align: top;\n",
       "    }\n",
       "\n",
       "    .dataframe thead th {\n",
       "        text-align: right;\n",
       "    }\n",
       "</style>\n",
       "<table border=\"1\" class=\"dataframe\">\n",
       "  <thead>\n",
       "    <tr style=\"text-align: right;\">\n",
       "      <th></th>\n",
       "      <th>text1</th>\n",
       "      <th>text2</th>\n",
       "      <th>Cosine_sim</th>\n",
       "    </tr>\n",
       "  </thead>\n",
       "  <tbody>\n",
       "    <tr>\n",
       "      <th>2577</th>\n",
       "      <td>nadal marches on in mexico rafael nadal contin...</td>\n",
       "      <td>tokyo says deflation  controlled  the japanese...</td>\n",
       "      <td>0.032605</td>\n",
       "    </tr>\n",
       "    <tr>\n",
       "      <th>1395</th>\n",
       "      <td>green fear for transport ballot the green part...</td>\n",
       "      <td>qpr keeper day heads for preston queens park r...</td>\n",
       "      <td>0.058177</td>\n",
       "    </tr>\n",
       "    <tr>\n",
       "      <th>2054</th>\n",
       "      <td>can yahoo dominate next decade  yahoo has reac...</td>\n",
       "      <td>germany calls for eu reform german chancellor ...</td>\n",
       "      <td>0.063204</td>\n",
       "    </tr>\n",
       "    <tr>\n",
       "      <th>1550</th>\n",
       "      <td>labour s four little words labour has unveiled...</td>\n",
       "      <td>mobile gig aims to rock 3g forget about going ...</td>\n",
       "      <td>0.045441</td>\n",
       "    </tr>\n",
       "    <tr>\n",
       "      <th>590</th>\n",
       "      <td>digital uk driven by net and tv the uk s adopt...</td>\n",
       "      <td>losing yourself in online gaming online role p...</td>\n",
       "      <td>0.089500</td>\n",
       "    </tr>\n",
       "  </tbody>\n",
       "</table>\n",
       "</div>"
      ],
      "text/plain": [
       "                                                  text1  \\\n",
       "2577  nadal marches on in mexico rafael nadal contin...   \n",
       "1395  green fear for transport ballot the green part...   \n",
       "2054  can yahoo dominate next decade  yahoo has reac...   \n",
       "1550  labour s four little words labour has unveiled...   \n",
       "590   digital uk driven by net and tv the uk s adopt...   \n",
       "\n",
       "                                                  text2  Cosine_sim  \n",
       "2577  tokyo says deflation  controlled  the japanese...    0.032605  \n",
       "1395  qpr keeper day heads for preston queens park r...    0.058177  \n",
       "2054  germany calls for eu reform german chancellor ...    0.063204  \n",
       "1550  mobile gig aims to rock 3g forget about going ...    0.045441  \n",
       "590   losing yourself in online gaming online role p...    0.089500  "
      ]
     },
     "execution_count": 38,
     "metadata": {},
     "output_type": "execute_result"
    }
   ],
   "source": [
    "similarities = []\n",
    "for i in range(data_2.shape[0]):\n",
    "    similarity_score = cosine_sim(data['text1'][i], data['text2'][i])\n",
    "    similarities.append(similarity_score)\n",
    "\n",
    "data_2['Cosine_sim'] = similarities\n",
    "data_2.sample(5)"
   ]
  },
  {
   "cell_type": "code",
   "execution_count": 45,
   "id": "c1be372c",
   "metadata": {},
   "outputs": [
    {
     "name": "stdout",
     "output_type": "stream",
     "text": [
      "[1, 1, 1, 0, 1, 1, 0, 1, 1, 1, 1, 0, 1, 1, 0, 1, 1, 1, 1, 1, 1, 0, 1, 0, 1, 1, 1, 1, 1, 0, 1, 1, 1, 0, 1, 1, 1, 1, 1, 0, 1, 1, 1, 1, 0, 0, 1, 1, 1, 0, 1, 1, 0, 1, 1, 1, 1, 1, 0, 0, 0, 1, 1, 0, 1, 1, 0, 0, 0, 0, 1, 1, 1, 1, 1, 1, 1, 1, 1, 1, 1, 0, 1, 1, 1, 1, 1, 0, 0, 0, 1, 1, 1, 1, 0, 0, 1, 0, 1, 0, 1, 1, 1, 1, 1, 1, 1, 0, 1, 0, 1, 0, 1, 0, 1, 1, 0, 1, 1, 0, 0, 1, 1, 0, 0, 1, 1, 1, 0, 1, 0, 0, 1, 1, 0, 1, 1, 1, 1, 1, 1, 1, 1, 1, 1, 0, 1, 1, 1, 1, 1, 1, 1, 0, 0, 1, 0, 1, 0, 1, 1, 1, 1, 1, 1, 1, 1, 1, 1, 1, 1, 0, 0, 1, 1, 1, 1, 1, 1, 1, 1, 0, 1, 0, 1, 0, 1, 1, 0, 1, 1, 0, 0, 1, 1, 1, 0, 1, 1, 1, 0, 0, 0, 1, 0, 0, 1, 1, 1, 1, 1, 0, 0, 1, 1, 1, 0, 1, 1, 1, 0, 1, 0, 0, 1, 1, 1, 1, 1, 1, 1, 0, 0, 0, 0, 1, 1, 0, 0, 0, 0, 1, 1, 0, 1, 0, 1, 1, 1, 1, 0, 1, 0, 0, 1, 1, 1, 0, 0, 0, 1, 0, 0, 1, 0, 1, 1, 0, 1, 0, 1, 1, 0, 0, 1, 1, 1, 0, 0, 1, 1, 1, 0, 1, 1, 0, 0, 1, 0, 1, 1, 0, 0, 0, 0, 1, 1, 1, 1, 0, 1, 1, 1, 0, 1, 0, 1, 1, 1, 1, 1, 0, 1, 1, 0, 1, 1, 1, 0, 0, 1, 0, 1, 0, 0, 1, 0, 1, 1, 1, 1, 1, 1, 1, 0, 0, 1, 1, 1, 1, 0, 1, 0, 1, 0, 1, 1, 1, 1, 1, 1, 1, 1, 0, 0, 1, 1, 0, 1, 1, 0, 1, 1, 1, 1, 1, 0, 1, 0, 0, 1, 0, 1, 1, 1, 1, 0, 1, 1, 1, 0, 1, 1, 0, 1, 0, 1, 1, 0, 0, 0, 1, 0, 1, 0, 0, 1, 1, 1, 1, 0, 1, 0, 1, 1, 1, 1, 0, 1, 1, 0, 0, 1, 1, 1, 1, 1, 1, 1, 1, 1, 1, 1, 0, 1, 1, 0, 1, 0, 0, 1, 0, 1, 1, 0, 1, 0, 0, 1, 1, 1, 1, 1, 1, 0, 1, 1, 0, 1, 1, 0, 1, 0, 1, 1, 0, 1, 1, 0, 1, 1, 0, 1, 1, 1, 1, 1, 1, 1, 1, 1, 1, 1, 1, 0, 1, 1, 1, 0, 1, 1, 1, 1, 1, 1, 1, 0, 1, 1, 1, 1, 1, 0, 0, 1, 0, 1, 1, 1, 1, 0, 0, 1, 1, 1, 0, 0, 1, 1, 0, 1, 0, 0, 0, 1, 1, 1, 1, 1, 1, 1, 1, 1, 0, 1, 1, 1, 1, 1, 1, 1, 0, 1, 0, 0, 1, 0, 1, 0, 1, 0, 1, 1, 1, 1, 1, 1, 0, 1, 1, 1, 0, 0, 0, 1, 1, 0, 1, 0, 1, 0, 1, 1, 1, 1, 1, 1, 1, 0, 1, 0, 0, 0, 1, 1, 1, 1, 0, 0, 0, 1, 1, 1, 1, 1, 1, 0, 1, 1, 1, 1, 1, 1, 0, 1, 1, 1, 1, 1, 0, 1, 1, 1, 0, 1, 1, 1, 1, 1, 1, 1, 0, 0, 1, 1, 1, 1, 1, 0, 1, 1, 0, 1, 1, 1, 1, 1, 1, 1, 0, 0, 1, 0, 1, 0, 0, 1, 0, 1, 0, 0, 1, 1, 1, 1, 1, 1, 0, 1, 0, 1, 1, 1, 1, 1, 0, 0, 0, 1, 1, 1, 1, 0, 0, 0, 1, 1, 1, 1, 0, 1, 1, 1, 1, 1, 1, 1, 0, 0, 0, 1, 1, 1, 1, 0, 1, 0, 1, 0, 0, 1, 1, 1, 1, 1, 1, 0, 0, 1, 1, 1, 1, 0, 1, 1, 1, 1, 0, 1, 0, 1, 1, 1, 0, 0, 1, 1, 1, 1, 1, 1, 0, 1, 1, 0, 1, 1, 0, 0, 1, 1, 1, 1, 1, 1, 0, 0, 1, 0, 1, 1, 1, 0, 0, 1, 1, 0, 1, 0, 0, 1, 0, 1, 0, 1, 1, 1, 1, 0, 0, 1, 1, 0, 1, 0, 1, 1, 1, 1, 0, 0, 1, 1, 0, 1, 1, 1, 1, 1, 0, 1, 1, 0, 1, 1, 1, 1, 0, 0, 1, 1, 0, 0, 1, 1, 1, 0, 0, 0, 1, 0, 0, 1, 1, 1, 1, 0, 1, 1, 1, 0, 1, 1, 1, 1, 1, 1, 1, 0, 0, 1, 0, 0, 1, 1, 1, 1, 1, 1, 1, 1, 1, 1, 1, 1, 1, 0, 1, 1, 1, 1, 1, 0, 0, 1, 0, 1, 1, 1, 1, 1, 0, 1, 1, 0, 0, 1, 1, 1, 1, 0, 0, 1, 0, 0, 1, 1, 0, 1, 1, 0, 1, 1, 1, 0, 0, 0, 1, 0, 1, 1, 1, 1, 1, 0, 0, 0, 0, 1, 1, 1, 1, 1, 1, 0, 1, 1, 1, 1, 1, 0, 1, 1, 1, 1, 1, 0, 1, 1, 1, 0, 0, 1, 1, 1, 1, 1, 1, 0, 1, 1, 1, 1, 0, 1, 0, 1, 1, 1, 0, 1, 1, 0, 1, 1, 0, 0, 1, 0, 0, 1, 1, 1, 1, 0, 1, 1, 1, 0, 0, 0, 1, 1, 1, 1, 1, 1, 0, 0, 1, 1, 1, 1, 0, 1, 0, 1, 0, 1, 1, 0, 0, 1, 1, 1, 1, 1, 0, 1, 1, 0, 1, 1, 1, 0, 1, 0, 0, 1, 1, 1, 1, 0, 1, 1, 0, 1, 1, 1, 1, 1, 0, 0, 0, 1, 0, 1, 1, 0, 1, 0, 1, 0, 1, 1, 0, 1, 0, 1, 0, 1, 0, 1, 1, 1, 0, 1, 0, 0, 1, 1, 1, 0, 1, 0, 0, 1, 1, 0, 1, 1, 1, 0, 1, 1, 0, 0, 1, 1, 1, 1, 1, 0, 1, 0, 1, 0, 1, 1, 1, 0, 0, 1, 1, 1, 1, 1, 1, 1, 0, 0, 0, 1, 0, 1, 0, 1, 0, 1, 1, 1, 0, 0, 0, 1, 0, 1, 0, 1, 1, 1, 1, 1, 0, 1, 0, 1, 1, 0, 1, 0, 1, 1, 0, 1, 1, 1, 1, 1, 0, 1, 1, 0, 1, 1, 1, 0, 1, 1, 1, 1, 1, 1, 1, 1, 1, 1, 0, 1, 1, 0, 1, 1, 0, 1, 0, 1, 0, 1, 1, 0, 0, 0, 0, 1, 0, 1, 1, 0, 1, 0, 1, 1, 1, 1, 1, 1, 1, 0, 0, 1, 0, 1, 0, 0, 1, 0, 0, 1, 0, 1, 1, 0, 0, 0, 0, 0, 0, 1, 0, 1, 0, 1, 1, 0, 1, 1, 1, 1, 1, 0, 1, 1, 0, 1, 1, 1, 1, 1, 1, 0, 0, 1, 1, 0, 1, 1, 1, 1, 0, 0, 0, 0, 0, 1, 1, 1, 1, 1, 1, 0, 1, 1, 1, 1, 0, 1, 1, 1, 1, 1, 0, 0, 1, 1, 1, 1, 1, 1, 1, 1, 1, 1, 1, 0, 1, 0, 0, 1, 0, 0, 1, 1, 1, 0, 1, 1, 1, 0, 0, 1, 1, 1, 0, 1, 1, 1, 0, 1, 0, 1, 0, 1, 1, 0, 0, 0, 1, 0, 1, 1, 0, 1, 1, 1, 1, 1, 1, 0, 0, 0, 1, 0, 1, 1, 1, 1, 0, 1, 1, 1, 0, 1, 1, 0, 0, 1, 1, 1, 1, 0, 0, 0, 1, 1, 1, 1, 0, 0, 1, 0, 1, 0, 1, 0, 0, 0, 0, 0, 1, 1, 1, 1, 1, 1, 0, 1, 0, 1, 1, 1, 0, 0, 0, 0, 0, 0, 1, 1, 1, 1, 0, 0, 0, 1, 1, 1, 1, 1, 0, 0, 0, 0, 0, 0, 1, 0, 1, 1, 1, 1, 1, 1, 0, 1, 0, 1, 0, 0, 0, 0, 0, 1, 1, 1, 1, 1, 1, 1, 0, 1, 1, 0, 0, 1, 1, 0, 1, 0, 1, 1, 0, 1, 1, 1, 0, 1, 0, 1, 1, 1, 1, 1, 1, 1, 1, 0, 0, 1, 1, 0, 1, 1, 1, 0, 1, 0, 1, 1, 0, 0, 1, 1, 1, 0, 1, 0, 1, 0, 0, 0, 0, 1, 0, 1, 0, 0, 1, 1, 0, 1, 0, 1, 1, 0, 1, 1, 1, 0, 1, 1, 1, 0, 1, 1, 1, 1, 1, 1, 1, 1, 1, 0, 1, 0, 0, 1, 1, 0, 1, 1, 1, 0, 1, 1, 1, 1, 1, 1, 1, 0, 1, 0, 1, 1, 0, 1, 1, 1, 1, 0, 1, 1, 1, 0, 1, 1, 1, 1, 0, 1, 1, 1, 1, 1, 1, 0, 1, 1, 0, 1, 1, 1, 1, 1, 0, 0, 1, 1, 0, 1, 0, 0, 1, 0, 0, 0, 0, 1, 1, 1, 1, 0, 1, 1, 1, 1, 1, 1, 0, 0, 1, 1, 1, 1, 1, 0, 1, 1, 0, 1, 1, 1, 1, 1, 0, 1, 0, 0, 0, 0, 1, 1, 1, 1, 1, 1, 1, 1, 0, 1, 0, 0, 1, 0, 1, 1, 1, 0, 0, 1, 1, 1, 1, 0, 1, 1, 1, 1, 1, 0, 1, 0, 1, 0, 1, 1, 0, 1, 1, 1, 1, 1, 1, 1, 1, 0, 1, 0, 1, 0, 0, 1, 1, 1, 1, 1, 1, 0, 1, 1, 1, 1, 1, 1, 1, 1, 1, 0, 1, 1, 0, 1, 1, 0, 1, 1, 1, 1, 0, 0, 0, 1, 1, 1, 1, 0, 1, 1, 1, 1, 1, 1, 1, 1, 1, 0, 1, 1, 0, 1, 1, 1, 1, 1, 1, 1, 1, 1, 1, 0, 0, 1, 1, 1, 1, 1, 1, 1, 1, 1, 0, 0, 1, 1, 1, 1, 0, 0, 0, 1, 0, 0, 0, 0, 0, 1, 0, 1, 0, 1, 1, 0, 1, 0, 1, 0, 1, 1, 1, 1, 1, 1, 0, 1, 1, 1, 1, 1, 0, 1, 1, 1, 1, 1, 1, 1, 1, 1, 1, 0, 1, 1, 1, 0, 1, 1, 1, 1, 1, 1, 1, 1, 1, 1, 1, 1, 0, 1, 1, 0, 0, 0, 1, 0, 1, 1, 1, 1, 1, 0, 0, 1, 0, 1, 0, 1, 1, 1, 1, 1, 0, 1, 1, 1, 0, 0, 1, 1, 1, 1, 1, 0, 0, 1, 1, 0, 1, 1, 0, 1, 1, 1, 0, 1, 1, 0, 1, 1, 1, 1, 1, 0, 1, 1, 0, 1, 0, 1, 1, 1, 0, 1, 1, 1, 1, 0, 1, 1, 0, 1, 1, 1, 1, 1, 1, 1, 0, 0, 0, 0, 1, 1, 1, 0, 1, 1, 1, 1, 1, 1, 1, 1, 1, 0, 0, 1, 1, 0, 0, 1, 1, 1, 1, 1, 1, 0, 0, 0, 1, 0, 0, 0, 0, 1, 0, 1, 1, 1, 1, 1, 1, 1, 0, 0, 1, 1, 0, 1, 1, 1, 1, 1, 1, 1, 0, 0, 1, 1, 1, 1, 1, 0, 0, 1, 1, 1, 1, 0, 0, 1, 1, 1, 0, 1, 1, 1, 1, 1, 0, 0, 0, 1, 0, 1, 1, 1, 1, 0, 1, 1, 1, 0, 1, 1, 1, 1, 1, 1, 1, 0, 1, 0, 0, 1, 0, 1, 0, 1, 1, 0, 0, 1, 1, 1, 1, 0, 1, 1, 1, 0, 1, 1, 0, 0, 0, 0, 1, 0, 0, 1, 1, 1, 1, 1, 1, 0, 1, 1, 1, 1, 1, 0, 1, 0, 1, 1, 1, 1, 1, 1, 0, 1, 1, 1, 1, 1, 1, 1, 0, 0, 0, 0, 1, 1, 1, 1, 1, 1, 0, 1, 0, 0, 1, 1, 1, 0, 1, 1, 1, 0, 0, 1, 1, 1, 1, 1, 0, 1, 1, 0, 1, 0, 1, 1, 1, 1, 1, 1, 1, 0, 0, 1, 1, 1, 0, 0, 1, 0, 0, 1, 1, 1, 0, 1, 1, 1, 1, 1, 0, 1, 0, 1, 1, 0, 1, 1, 1, 0, 0, 0, 1, 0, 1, 1, 1, 0, 1, 0, 0, 1, 1, 1, 1, 1, 0, 0, 1, 1, 1, 1, 0, 1, 0, 1, 0, 0, 1, 1, 1, 1, 1, 0, 1, 1, 1, 1, 1, 1, 1, 0, 1, 0, 1, 1, 1, 1, 1, 0, 0, 0, 0, 1, 0, 1, 1, 1, 1, 1, 0, 1, 1, 0, 0, 1, 1, 1, 1, 1, 1, 0, 1, 1, 0, 0, 1, 1, 1, 0, 1, 0, 1, 1, 1, 0, 0, 1, 0, 1, 1, 1, 1, 1, 1, 0, 1, 0, 1, 0, 1, 1, 1, 1, 0, 0, 1, 1, 1, 0, 1, 1, 0, 1, 1, 1, 0, 1, 0, 0, 1, 0, 0, 1, 1, 1, 1, 0, 0, 1, 1, 1, 1, 0, 0, 1, 0, 0, 1, 1, 0, 1, 1, 0, 1, 1, 1, 1, 1, 1, 1, 1, 0, 0, 1, 1, 1, 1, 1, 1, 0, 0, 0, 0, 0, 0, 1, 1, 1, 1, 1, 1, 1, 1, 0, 1, 1, 1, 0, 1, 1, 0, 1, 1, 1, 1, 1, 1, 1, 1, 1, 1, 1, 1, 0, 1, 1, 0, 1, 1, 0, 0, 1, 1, 0, 0, 1, 1, 1, 1, 1, 1, 1, 1, 1, 0, 1, 1, 1, 1, 1, 1, 0, 1, 1, 1, 1, 0, 0, 1, 1, 0, 1, 1, 0, 1, 0, 0, 1, 0, 1, 1, 1, 0, 0, 1, 0, 1, 0, 1, 1, 1, 1, 1, 0, 1, 1, 1, 0, 1, 0, 0, 1, 1, 1, 0, 1, 0, 1, 1, 0, 1, 1, 1, 1, 0, 1, 1, 0, 1, 0, 1, 0, 1, 0, 1, 1, 0, 1, 1, 1, 0, 0, 1, 1, 0, 0, 0, 1, 1, 1, 0, 0, 0, 1, 0, 1, 1, 1, 1, 1, 1, 1, 0, 1, 1, 1, 0, 0, 1, 0, 0, 0, 0, 1, 1, 1, 0, 1, 1, 1, 1, 0, 1, 1, 0, 1, 1, 1, 1, 0, 0, 1, 1, 0, 1, 0, 0, 1, 1, 1, 0, 0, 1, 1, 1, 1, 0, 1, 1, 1, 1, 1, 1, 1, 0, 1, 1, 0, 1, 0, 1, 1, 0, 0, 1, 0, 1, 1, 0, 1, 1, 0, 0, 1, 0, 0, 1, 1, 0, 1, 1, 1, 0, 1, 1, 1, 1, 1, 1, 0, 1, 1, 1, 1, 1, 1, 0, 1, 0, 1, 1, 1, 1, 1, 0, 1, 0, 0, 1, 1, 1, 0, 1, 1, 1, 0, 1, 0, 0, 0, 0, 1, 0, 1, 1, 1, 0, 1, 1, 1, 0, 1, 0, 0, 1, 0, 1, 1, 1, 0, 1, 1, 0, 1, 1, 1, 0, 1, 1, 1, 1, 1, 0, 0, 1, 1, 1, 1, 1, 1, 1, 1, 0, 1, 1, 1, 1, 1, 0, 0, 0, 1, 1, 0, 0, 0, 0, 1, 1, 1, 1, 1, 1, 1, 1, 1, 0, 0, 1, 1, 0, 0, 0, 1, 1, 1, 1, 0, 1, 1, 1, 1, 1, 1, 1, 0, 0, 1, 1, 1, 0, 1, 0, 1, 1, 0, 0, 0, 1, 0, 0, 0, 0, 0, 1, 1, 1, 0, 0, 1, 1, 1, 1, 1, 1, 1, 0, 0, 1, 1, 1, 1, 1, 1, 1, 0, 1, 1, 1, 1, 0, 1, 1, 1, 0, 0, 1, 0, 1, 0, 1, 1, 1, 1, 1, 1, 1, 1, 1, 0, 1, 1, 0, 1, 1, 0, 1, 1, 1, 1, 1, 0, 1, 0, 1, 1, 1, 1, 0, 0, 1, 0, 1, 0, 1, 1, 1, 0, 0, 0, 1, 0, 0, 0, 1, 0, 1, 1, 1, 1, 0, 0, 0, 1, 1, 1, 1, 1, 0, 0, 1, 0, 0, 1, 1, 0, 1, 0, 0, 0, 1, 1, 1, 1, 0, 1, 1, 1, 1, 1, 1, 1, 1, 0, 1, 1, 1, 1, 0, 1, 1, 1, 1, 1, 1, 0, 1, 0, 1, 1, 1, 1, 1, 1, 0, 1, 1, 1, 0, 1, 1, 1, 1, 1, 1, 1, 0, 0, 1, 1, 1, 1, 1, 1, 1, 0, 1, 0, 0, 1, 1, 1, 1, 1, 0, 1, 1, 1, 0, 0, 1, 1, 1, 1, 1, 1, 0, 1, 1, 0, 0, 1, 1, 1, 1, 1, 1, 1, 0, 0, 0, 1, 0, 0, 0, 1, 0, 0, 0, 1, 1, 1, 1, 1, 1, 1, 1, 1, 1, 1, 1, 1, 0, 1, 1, 1, 1, 1, 0, 1, 1, 1, 1, 0, 1, 1, 1, 1, 1, 1, 0, 0, 1, 0, 1, 1, 0, 0, 1, 0, 1, 1, 1, 1, 0, 0, 0, 1, 0, 1, 0, 1, 1, 1, 1, 1, 1, 0, 1, 0, 1, 0, 1, 1, 0, 0, 1, 1, 0, 0, 1, 1, 1, 1, 1, 0, 0, 1, 1, 1, 1, 1, 1, 1, 1, 1, 0, 1, 0, 1, 1, 1, 0, 1, 0, 0, 1, 1, 1, 1, 1, 0, 1, 1, 1, 1, 1, 0, 1, 1, 1, 1, 1, 1, 1, 1, 1, 0, 1, 1, 0, 1, 0, 1, 0, 0, 0, 0, 1, 1, 1, 0, 1, 1, 1, 1, 1, 0, 0, 1, 0, 1, 1, 1, 1, 1, 1, 1, 1, 1, 1, 1, 1, 1, 1, 1, 1, 1, 1, 1, 1, 1, 1, 1, 1, 1, 1, 1, 1, 1, 1, 1, 0, 1, 1, 1, 1, 1, 1, 1, 0, 1, 1, 1, 0, 0, 0, 0, 1, 1]\n"
     ]
    }
   ],
   "source": [
    "similarity = []\n",
    "for i in similarities:\n",
    "    if i >= 0.05:\n",
    "        i = 1\n",
    "        similarity.append(i)\n",
    "    else:\n",
    "        i = 0\n",
    "        similarity.append(i)\n",
    "print(similarity)"
   ]
  },
  {
   "cell_type": "code",
   "execution_count": 46,
   "id": "7e2d5ced",
   "metadata": {},
   "outputs": [
    {
     "data": {
      "text/html": [
       "<div>\n",
       "<style scoped>\n",
       "    .dataframe tbody tr th:only-of-type {\n",
       "        vertical-align: middle;\n",
       "    }\n",
       "\n",
       "    .dataframe tbody tr th {\n",
       "        vertical-align: top;\n",
       "    }\n",
       "\n",
       "    .dataframe thead th {\n",
       "        text-align: right;\n",
       "    }\n",
       "</style>\n",
       "<table border=\"1\" class=\"dataframe\">\n",
       "  <thead>\n",
       "    <tr style=\"text-align: right;\">\n",
       "      <th></th>\n",
       "      <th>text1</th>\n",
       "      <th>text2</th>\n",
       "      <th>Cosine_sim</th>\n",
       "      <th>sim_score</th>\n",
       "    </tr>\n",
       "  </thead>\n",
       "  <tbody>\n",
       "    <tr>\n",
       "      <th>709</th>\n",
       "      <td>what really divides the parties so what is the...</td>\n",
       "      <td>yukos heading back to us courts russian oil an...</td>\n",
       "      <td>0.024726</td>\n",
       "      <td>0</td>\n",
       "    </tr>\n",
       "    <tr>\n",
       "      <th>521</th>\n",
       "      <td>aviator  creator  in oscars snub the man who s...</td>\n",
       "      <td>no uk premiere for rings musical the producers...</td>\n",
       "      <td>0.160678</td>\n",
       "      <td>1</td>\n",
       "    </tr>\n",
       "    <tr>\n",
       "      <th>2594</th>\n",
       "      <td>wales get williams fitness boost wales are hop...</td>\n",
       "      <td>jones files lawsuit against conte marion jones...</td>\n",
       "      <td>0.081852</td>\n",
       "      <td>1</td>\n",
       "    </tr>\n",
       "    <tr>\n",
       "      <th>819</th>\n",
       "      <td>wenger handed summer war chest arsenal boss ar...</td>\n",
       "      <td>yukos loses us bankruptcy battle a judge has d...</td>\n",
       "      <td>0.048345</td>\n",
       "      <td>0</td>\n",
       "    </tr>\n",
       "    <tr>\n",
       "      <th>1905</th>\n",
       "      <td>petrol duties frozen  brown says chancellor go...</td>\n",
       "      <td>mps to debate  euthanasia laws  mps are prepar...</td>\n",
       "      <td>0.081153</td>\n",
       "      <td>1</td>\n",
       "    </tr>\n",
       "  </tbody>\n",
       "</table>\n",
       "</div>"
      ],
      "text/plain": [
       "                                                  text1  \\\n",
       "709   what really divides the parties so what is the...   \n",
       "521   aviator  creator  in oscars snub the man who s...   \n",
       "2594  wales get williams fitness boost wales are hop...   \n",
       "819   wenger handed summer war chest arsenal boss ar...   \n",
       "1905  petrol duties frozen  brown says chancellor go...   \n",
       "\n",
       "                                                  text2  Cosine_sim  sim_score  \n",
       "709   yukos heading back to us courts russian oil an...    0.024726          0  \n",
       "521   no uk premiere for rings musical the producers...    0.160678          1  \n",
       "2594  jones files lawsuit against conte marion jones...    0.081852          1  \n",
       "819   yukos loses us bankruptcy battle a judge has d...    0.048345          0  \n",
       "1905  mps to debate  euthanasia laws  mps are prepar...    0.081153          1  "
      ]
     },
     "execution_count": 46,
     "metadata": {},
     "output_type": "execute_result"
    }
   ],
   "source": [
    "data_2['sim_score'] = similarity\n",
    "data_2.sample(5)"
   ]
  },
  {
   "cell_type": "code",
   "execution_count": 47,
   "id": "d0f4568f",
   "metadata": {},
   "outputs": [
    {
     "data": {
      "text/html": [
       "<div>\n",
       "<style scoped>\n",
       "    .dataframe tbody tr th:only-of-type {\n",
       "        vertical-align: middle;\n",
       "    }\n",
       "\n",
       "    .dataframe tbody tr th {\n",
       "        vertical-align: top;\n",
       "    }\n",
       "\n",
       "    .dataframe thead th {\n",
       "        text-align: right;\n",
       "    }\n",
       "</style>\n",
       "<table border=\"1\" class=\"dataframe\">\n",
       "  <thead>\n",
       "    <tr style=\"text-align: right;\">\n",
       "      <th></th>\n",
       "      <th>text1</th>\n",
       "      <th>text2</th>\n",
       "      <th>sim_score</th>\n",
       "    </tr>\n",
       "  </thead>\n",
       "  <tbody>\n",
       "    <tr>\n",
       "      <th>345</th>\n",
       "      <td>bank set to leave rates on hold uk interest ra...</td>\n",
       "      <td>france v wales (sat) stade de france  paris  s...</td>\n",
       "      <td>1</td>\n",
       "    </tr>\n",
       "    <tr>\n",
       "      <th>2197</th>\n",
       "      <td>&amp;#163;1.8m indecency fine for viacom media gia...</td>\n",
       "      <td>electrolux to export europe jobs electrolux sa...</td>\n",
       "      <td>0</td>\n",
       "    </tr>\n",
       "    <tr>\n",
       "      <th>1707</th>\n",
       "      <td>harinordoquy suffers france axe number eight i...</td>\n",
       "      <td>blair buys copies of new band aid prime minist...</td>\n",
       "      <td>0</td>\n",
       "    </tr>\n",
       "    <tr>\n",
       "      <th>383</th>\n",
       "      <td>parker s saxophone heads auction a saxophone b...</td>\n",
       "      <td>adriano s chelsea link rejected adriano s agen...</td>\n",
       "      <td>0</td>\n",
       "    </tr>\n",
       "    <tr>\n",
       "      <th>2303</th>\n",
       "      <td>emi shares hit by profit warning shares in mus...</td>\n",
       "      <td>fit-again betsen in france squad france have b...</td>\n",
       "      <td>0</td>\n",
       "    </tr>\n",
       "  </tbody>\n",
       "</table>\n",
       "</div>"
      ],
      "text/plain": [
       "                                                  text1  \\\n",
       "345   bank set to leave rates on hold uk interest ra...   \n",
       "2197  &#163;1.8m indecency fine for viacom media gia...   \n",
       "1707  harinordoquy suffers france axe number eight i...   \n",
       "383   parker s saxophone heads auction a saxophone b...   \n",
       "2303  emi shares hit by profit warning shares in mus...   \n",
       "\n",
       "                                                  text2  sim_score  \n",
       "345   france v wales (sat) stade de france  paris  s...          1  \n",
       "2197  electrolux to export europe jobs electrolux sa...          0  \n",
       "1707  blair buys copies of new band aid prime minist...          0  \n",
       "383   adriano s chelsea link rejected adriano s agen...          0  \n",
       "2303  fit-again betsen in france squad france have b...          0  "
      ]
     },
     "execution_count": 47,
     "metadata": {},
     "output_type": "execute_result"
    }
   ],
   "source": [
    "data_2.drop('Cosine_sim', axis=1, inplace=True)\n",
    "data_2.sample(5)"
   ]
  },
  {
   "cell_type": "code",
   "execution_count": 43,
   "id": "9c0569a8",
   "metadata": {},
   "outputs": [
    {
     "data": {
      "text/plain": [
       "'losing yourself in online gaming online role playing games are time-consuming  but enthralling flights from reality. but are some people taking their fantasy lives too seriously   when video game world of warcraft hit the shops in europe last week fans wrote in to the bbc website to express their delight - and to offer a warning.  an addiction to a game like this is far more costly in time than any substance could impair - keep track of time   wrote travis anderson  in texas. some of the comments were humorous:  this game is so good i m not going to get it  there s no way i could limit the hours i d spend playing it   wrote charles macintyre  from england.  but some struck a more worrying tone about the massively multiplayer online role playing game (mmorpg):   you need to get out more  could be the motto of any mmorpg. shame they are getting more popular  as you know this problem is just going to mushroom   wrote stuart stanton-davies  in huddersfield. scare-mongering articles about  addictive video games  have existed since the days the first game of pong stopped everyone from working at the atari offices.  gaming is like any other pastime - it can quickly become an unhealthy obsession  whether it is spending too much time in the gym  in front of the television  or reading poetry.  unfortunately  gaming and addiction is a far too easy association to make. however  stories about gamers spending 10 to 15 hours a day in front of some video games are becoming more frequent. and the impact that is having on their families is quite distressing for some.  massively multiplayer online role playing games - mmorpgs - allow thousands of gamers to share a common experience of sharing fantasy or science fiction worlds. the scope of these games - like warcraft  everquest  ultima among others - is epic  and exploration and adventure is almost infinite. part of the  problem  is grinding - by which gamers have to perform long-winded  mindless tasks  to bring up their levels and gain access to more adventure. such open-endedness brings with it a desire to keep playing; not for no reason is everquest (eq) nicknamed evercrack. e hayot  writing in the culture blogzine print culture  said recently:  i used to play the online role-playing game everquest a lot.  by  a lot   i mean probably 15 to 20 hours a week on average  and on weeks where i didn t have to work  as many as 30 or 40 hours.   he says that in the world of online gaming such behaviour  wasn t that unusual; lots of people i knew in the game played eq that much .  you lie; you don t go into work because you  had stuff to do at home ; you cancel or refuse invitations to dinner  you spend much less time watching tv (a good thing  presumably)   he wrote  explaining how everquest took over his time. he quit the game  he says  because he realised life was more fun than everquest.  let us be clear - such obsession is rare. but the huge growth in online gaming means a growth in the numbers of people who take their passion for a hobby too far. almost 400 000 people bought a copy of world of warcraft in the first two days on sale earlier this month. only a fraction will descend into obsessives. the thoughts of families and friends of gamers who have been affected by everquest can be found on one blog everquest daily grind. jane  who runs the website  compiles a chronicle of heart-rending stories.  i am actually convinced at this point that there are more than  some  people who spend more times in mmoprgs than in reality   she said. one unnamed correspondent - all are anonymous - wrote:  on the rare nights when my husband does come to bed at the same time as i do  i find that i am so used to sleeping by myself that it is difficult to get to sleep with another body laying next to me.   i can t talk to him while he is playing. there is absolutely no point as he doesn t hear me or is so distracted that i get a  ummm... ya  a few minutes after i ask him a question.    gaming widows  has become a comedic term for women who have been shut out by male gamers. but for some it is not in the least funny. another correspondent wrote:  i believe that he is addicted to the online gaming  and that is the cause of his depression and restlessness.  and some of them are even sadder:  today our son was five days old.  the sad truth is my husband spent 11 hours today playing his warcraft game. he did not interact with our sweet tiny baby because there were important quests waiting online.  video game fans often complain that their hobby is misunderstood or marginalised. but as gaming becomes ever more mainstream  and games ever more immersive  there will be no hiding place for social problems.    i wish 30-40 hours a week was unusual but i think it probably isn t. an 11 hour stretch isn t that surprising - i ve known people to play 15+ hours at a stretch. i know of people who are spending their week s holiday from work playing warcraft. i know of people who would play ever[crack] in shifts...waking at 3am to take over from their friends and resume waiting for an item they  needed  to appear. i understand that the key sign of an addiction is if you alter your life around it rather than fit it into your life. by all standards many of us are addicts. so is the solution to force ourselves to stop playing..or do we just need to make real life a bit more interesting   sadly with all the talk of people becoming obsessed with gaming  i find myself longing to have the time to join them. i have been in a long term relationship for over 4 years - since that began  games have become more and more complex. and more and more so i find i have less and less time to play them  with and marriage and work being the main drag on my time.  i think the line between playing a game a lot and a gaming addiction is really quite distinct. i play games a lot  definately over 20 hours a week  but i don t go missing work or other commitments in order to play games.  i have  about a year ago  deleted every game on my computer. rpgs are the worst - the real world fades and all your worries sorround a new magic staff or mighty sword. unlike books  or perhaps even tv  you gain absolutely nothing. when you stop playing you re at the same point as when you started; all the achievements of your 10 hour session are irretrievably locked in the game and  since you ve gained nothing in the real world  you may as well pile on more achievement in the fake one.  despite having little monetary value  the  rewards  and encouragement offered by these mmorpgs is enough to hook games for hours daily. if only business could learn to leverage that very simply human need for easily measurable progress and recognition. perhaps the unhealthily obsessed simply need more recognition for their achievements in reality   my advice to gaming widows is  if you can t beat  em  join  em . that is  try playing it yourself. if he wants to play as well  well at least you ll be together somewhere...  i was an addict and it cost me my relationship. i still play now  but without the guilt   hehe  how long have i played in one sitting  from morning till the early hours of the next day  the birds were singing out side and i had to hobble to the bath room cos my bladder was so full i was in pain  i would hardly eat  perhaps some toast  smoke endlessly and drink. now  thankfully the fascination has worn off and i have a girlfriend but still no job. for the most part online gaming give me an adiction to illusory achievement  and as there is no end in sight you keep going for the mirage of the ultimate.  obsessive behaviour is  of course  always cause for concern  but it always bothers me when articles about gaming talk in terms of  reality . obviously  somebody who spends thirty hours a week playing everquest has a problem. this problem  however  has nothing to do with a dysfunctional sense of reality. an obsessive eq player does not consider the game to be  real  any more than - for example - an obsessive automotive tinkerer considers their car to be human. if mmorpgs have a unique danger  in terms of encouraging obsessive behaviour  it is not that they create an absorbing virtual world  but rather that they can be easily accessed 24/7. the problem here does not lie with the nature of gaming  but with the nature of modern 24 hour culture.  the problem with these so called mmorpgs is that you can never really complete them  there s always another quest to do. a few of my friends have only had about 10 hours sleep since it was released friday...  championship manager consumed my life for years. one particular session started at about 2pm on a sunday  paused for a brief sleep at 5am on the monday and after visit to university for classes restarted at about midday for another 10 hour session. the people who tend to hark on about about the problems of  hardcore gaming  seem to be those who have rarely allowed themselves to become immersed in a game. i would expect their perspective to change if they were to do that.  i used to be an everquest addict while i was in college. it came to the point where the gaming world felt more real than the real one. i failed alot of my courses and was able to barely graduate. i was lucky that i came to my senses when i did  others were less fortunate and dropped out of college. now that i am holding a job  i avoid online rpgs like the plague.  when i was made redundant i told my partner i had a new job for three months whilst every day i played everquest from 7:30am till 5:pm. when she came home i pretended i had just got in as well  hence justifying playing it all evening. i have since quit playing mmorpg and have a good job.  when i got to the point where i was eating my dinner in front of the pc i realised things were getting silly so i m trying not to spend so much time on there. it s not easy. i feel as if i ve got a real addiction going on here.  for me the problem is that i love to complete a goal. once it is completed that is it  i am finished  time to move on. i become obsessed to complete the goal  so from that standpoint it is an addiction. in a game where you will never complete an  ultimate  goal  well it would be like falling into a black pit. it is easier to escape into a controlled fantasy world than face reality at times - in other words the goal offered in the pc game are  easier  and more fun than the real world. pretty scary implications if you think about it.  i can t buy world of warcraft as it would destroy my marrage  i just know it!!  i played star wars galaxies for about a year and can attest to the addictiveness of these games. they are all engineered in such a way that early on in the game you progress quickly  but this progress becomes exponentially slower  requiring more and more time to reach the next level. i m sad to say that at the peak of my addiction i was spending entire weekends in front of my monitor  slowly building up my character  stopping only for food and toilet breaks. thankfully i made a clean break  and actually managed to sell my jedi account for £800 - which is my only sanity check in an otherwise completely unproductive time vacuum.  seven years ago  i began playing ultima online. this game dominated 2 years of my life. they were 2 wonderful years and i still have vivid memories of the experiences and friends i had. online gaming can be a world of escapism where you can be yourself without fear of the thoughts of others. something that cannot always be achieved in the day to day running of a normal life. whilst i would warn against people giving to much of there life to these games  i believe they are a better way to spend your time than say watching tv.  gaming is addictive and should be made a recognised addiction. when i was single i used to play upto eight hours a night after work every night for about a year  building up my stats  completing evermore quests and battling ogres. but somehow i found time to get out  even met someone and got married! has my life changed  hell no! i still cast spells and battle till the early hours of the morning. on with the fun!  online gaming should be enjoyed just as much as you would enjoy watching television  or going to the cinema or the pub with your mates.  many people use recreational drugs on an occasional basis and are able to lead succesfull lives with families  relationships and good careers. a minority allow drugs to take over and destroy their lives and become addicted. according to this article the same is true of mmorpgs. the message to the government is clear  either legalise drugs  or outlaw online gaming!!  sounds like there are some sad stories here - and i can believe them all. i play alot of warcraft myself  and know full well how addictive it is. i am resolute that it will not take over my life. it certainly gets in the way though. i think that some people simply do not know how to draw this line  or lack the willpower to stop themselves stepping over it.  i think i m obsessed with gaming in general  i spend far too much time playing games like everquest 2 and football manager rather than going out and interacting with real people and when i do try to  i m always thinking in the back if my mind that i d rather be in front of the computer winning the league with cambridge united.  i am obsessed with online role playing games. it s not so much quests but it has the adrenaline of a real life situation - goals to achieve etc. i spend about five hours per day online playing it and i rarely get more than four to five hours sleep before getting up for work the next morning...  as many of the players spend their time in mmorpgs rather than in front of the tv i fail to see how it will affect players social lives negatively. furthermore these types of games contain a huge social aspect  whereas other games and some other pursuits (such as being a couch potato) the players could be indulging in are solitary by nature.  these games are like most things -- too much of anything is a bad thing  but as long as you can walk away from the computer to do other things too  they can be great fun.  living in korea at the moment  they have lots pc bangs (internet cafes). nearly most of south koreans are addicted to online games  and one korean died because of the lack of food and water he had through playing online games.  i play xbox live every day. i find my self lying and rescheduling everything around my gaming fix. the longest i played was a 24 hour straight session. i know i play for to long but it s an obsession that i can t control. can you reccomend a counsellor - this is not a wind up... but something i m increasingly concerned with...  me and my mate play online for an hour or two a day  we re both aware of how much time can disappear by sitting in front of a tv  trying to  frag  some individual. it s getting the balance between getting home and relasing the stress of a day by an hour or so gaming  and enjoying  real  life...  i bought the us version of world of warcraft when it came out. the longest period i played was 23 hrs straight. i gave up the game after a month because it was so addictive  but have subsequently just bought the european version (couldn t help myself). in future  i m going to regulate my time far more strictly. great game!  having played mmorpg games for some years i agree that these type of games can be life sucking. but my concern is for the younger generation of gamers that play for hours on end in an adult enviroment. most mmorpg games you need a credit card to play but i dont think parents know just what they are letting there children into.  unless there is undeniable medical proof that staring at a computer screens for hours at a time can damage a person&#191;s health  you can expect this not to decline but to get worse.  these people are pathetic. they need to get off their machines and notice that our world is being swiftly overcome by issues and troubles that make the trifling worries of and  online universe  absolutely meaningless.  24hours  when i was a kid at school and i was on half term  ultima online was the game  ahhhh them was the days ! lol'"
      ]
     },
     "execution_count": 43,
     "metadata": {},
     "output_type": "execute_result"
    }
   ],
   "source": [
    "data_2.loc[590]['text2']"
   ]
  },
  {
   "cell_type": "code",
   "execution_count": 50,
   "id": "0340ae84",
   "metadata": {},
   "outputs": [],
   "source": [
    "X = data_2.iloc[:,:-1]\n",
    "y = data_2['sim_score']"
   ]
  },
  {
   "cell_type": "code",
   "execution_count": 51,
   "id": "7fa2e48e",
   "metadata": {},
   "outputs": [
    {
     "name": "stdout",
     "output_type": "stream",
     "text": [
      "(2400, 2) (600, 2)\n"
     ]
    }
   ],
   "source": [
    "from sklearn.model_selection import train_test_split\n",
    "\n",
    "X_train,X_test, y_train, y_test = train_test_split(X, y, test_size=0.2, random_state=42)\n",
    "print(X_train.shape, X_test.shape)"
   ]
  },
  {
   "cell_type": "code",
   "execution_count": 53,
   "id": "bb94d8dc",
   "metadata": {},
   "outputs": [
    {
     "data": {
      "text/plain": [
       "((2400,), (600,))"
      ]
     },
     "execution_count": 53,
     "metadata": {},
     "output_type": "execute_result"
    }
   ],
   "source": [
    "y_train.shape, y_test.shape"
   ]
  },
  {
   "cell_type": "code",
   "execution_count": 63,
   "id": "1d2e2f1f",
   "metadata": {},
   "outputs": [],
   "source": [
    "from sklearn.feature_extraction.text import TfidfVectorizer\n",
    "from sklearn.feature_extraction.text import TfidfTransformer\n",
    "import tensorflow as tf\n",
    "from tensorflow.keras.layers.experimental.preprocessing import TextVectorization"
   ]
  },
  {
   "cell_type": "code",
   "execution_count": 64,
   "id": "4fdaf8d9",
   "metadata": {},
   "outputs": [],
   "source": [
    "text_vectorizer = TextVectorization(max_tokens=None, # how many words in the vocabulary (all of the different words in your text)\n",
    "                                    standardize=\"lower_and_strip_punctuation\", # how to process text\n",
    "                                    split=\"whitespace\", # how to split tokens\n",
    "                                    ngrams=None, # create groups of n-words?\n",
    "                                    output_mode=\"int\", # how to map tokens to numbers\n",
    "                                    output_sequence_length=None)"
   ]
  },
  {
   "cell_type": "code",
   "execution_count": 68,
   "id": "b33ecb31",
   "metadata": {},
   "outputs": [
    {
     "data": {
      "text/plain": [
       "1    2030\n",
       "0     970\n",
       "Name: sim_score, dtype: int64"
      ]
     },
     "execution_count": 68,
     "metadata": {},
     "output_type": "execute_result"
    }
   ],
   "source": [
    "data_2.sim_score.value_counts()"
   ]
  },
  {
   "cell_type": "code",
   "execution_count": 70,
   "id": "21119d89",
   "metadata": {},
   "outputs": [
    {
     "name": "stdout",
     "output_type": "stream",
     "text": [
      "392\n",
      "399\n"
     ]
    }
   ],
   "source": [
    "max_vocab_length = 10000\n",
    "max_length = 15 \n",
    "print(round(sum([len(i.split()) for i in X_train['text1']])/len(X_train['text1'])))\n",
    "print(round(sum([len(i.split()) for i in X_train['text2']])/len(X_train['text2'])))"
   ]
  },
  {
   "cell_type": "code",
   "execution_count": 71,
   "id": "4ed68066",
   "metadata": {},
   "outputs": [],
   "source": [
    "tf.random.set_seed(42)\n",
    "from tensorflow.keras import layers\n",
    "\n",
    "embedding = layers.Embedding(input_dim=max_vocab_length, # set input shape\n",
    "                             output_dim=128, # set size of embedding vector\n",
    "                             embeddings_initializer=\"uniform\", # default, intialize randomly\n",
    "                             input_length=399, # how long is each input\n",
    "                             name=\"embedding_1\") "
   ]
  },
  {
   "cell_type": "code",
   "execution_count": 80,
   "id": "c2be78c1",
   "metadata": {},
   "outputs": [
    {
     "ename": "ValueError",
     "evalue": "Exception encountered when calling layer \"text_vectorization\" (type TextVectorization).\n\nWhen using `TextVectorization` to tokenize strings, the input rank must be 1 or the last shape dimension must be 1. Received: inputs.shape=(None, 1, 2) with rank=3\n\nCall arguments received by layer \"text_vectorization\" (type TextVectorization):\n  • inputs=tf.Tensor(shape=(None, 1, 2), dtype=string)",
     "output_type": "error",
     "traceback": [
      "\u001b[1;31m---------------------------------------------------------------------------\u001b[0m",
      "\u001b[1;31mValueError\u001b[0m                                Traceback (most recent call last)",
      "Cell \u001b[1;32mIn [80], line 3\u001b[0m\n\u001b[0;32m      1\u001b[0m \u001b[38;5;28;01mfrom\u001b[39;00m \u001b[38;5;21;01mtensorflow\u001b[39;00m\u001b[38;5;21;01m.\u001b[39;00m\u001b[38;5;21;01mkeras\u001b[39;00m \u001b[38;5;28;01mimport\u001b[39;00m layers\n\u001b[0;32m      2\u001b[0m inputs \u001b[38;5;241m=\u001b[39m layers\u001b[38;5;241m.\u001b[39mInput(shape\u001b[38;5;241m=\u001b[39m(\u001b[38;5;241m1\u001b[39m,\u001b[38;5;241m2\u001b[39m), dtype\u001b[38;5;241m=\u001b[39m\u001b[38;5;124m\"\u001b[39m\u001b[38;5;124mstring\u001b[39m\u001b[38;5;124m\"\u001b[39m) \u001b[38;5;66;03m# inputs are 1-dimensional strings\u001b[39;00m\n\u001b[1;32m----> 3\u001b[0m x \u001b[38;5;241m=\u001b[39m \u001b[43mtext_vectorizer\u001b[49m\u001b[43m(\u001b[49m\u001b[43minputs\u001b[49m\u001b[43m)\u001b[49m \u001b[38;5;66;03m# turn the input text into numbers\u001b[39;00m\n\u001b[0;32m      4\u001b[0m x \u001b[38;5;241m=\u001b[39m embedding(x) \u001b[38;5;66;03m# create an embedding of the numerized numbers\u001b[39;00m\n\u001b[0;32m      5\u001b[0m x \u001b[38;5;241m=\u001b[39m layers\u001b[38;5;241m.\u001b[39mGlobalAveragePooling1D()(x) \u001b[38;5;66;03m# lower the dimensionality of the embedding (try running the model without this layer and see what happens)\u001b[39;00m\n",
      "File \u001b[1;32m~\\anaconda3\\envs\\semantic_similarity\\lib\\site-packages\\keras\\utils\\traceback_utils.py:70\u001b[0m, in \u001b[0;36mfilter_traceback.<locals>.error_handler\u001b[1;34m(*args, **kwargs)\u001b[0m\n\u001b[0;32m     67\u001b[0m     filtered_tb \u001b[38;5;241m=\u001b[39m _process_traceback_frames(e\u001b[38;5;241m.\u001b[39m__traceback__)\n\u001b[0;32m     68\u001b[0m     \u001b[38;5;66;03m# To get the full stack trace, call:\u001b[39;00m\n\u001b[0;32m     69\u001b[0m     \u001b[38;5;66;03m# `tf.debugging.disable_traceback_filtering()`\u001b[39;00m\n\u001b[1;32m---> 70\u001b[0m     \u001b[38;5;28;01mraise\u001b[39;00m e\u001b[38;5;241m.\u001b[39mwith_traceback(filtered_tb) \u001b[38;5;28;01mfrom\u001b[39;00m \u001b[38;5;28mNone\u001b[39m\n\u001b[0;32m     71\u001b[0m \u001b[38;5;28;01mfinally\u001b[39;00m:\n\u001b[0;32m     72\u001b[0m     \u001b[38;5;28;01mdel\u001b[39;00m filtered_tb\n",
      "File \u001b[1;32m~\\anaconda3\\envs\\semantic_similarity\\lib\\site-packages\\keras\\layers\\preprocessing\\text_vectorization.py:564\u001b[0m, in \u001b[0;36mTextVectorization._preprocess\u001b[1;34m(self, inputs)\u001b[0m\n\u001b[0;32m    562\u001b[0m \u001b[38;5;28;01mif\u001b[39;00m inputs\u001b[38;5;241m.\u001b[39mshape\u001b[38;5;241m.\u001b[39mrank \u001b[38;5;241m>\u001b[39m \u001b[38;5;241m1\u001b[39m:\n\u001b[0;32m    563\u001b[0m     \u001b[38;5;28;01mif\u001b[39;00m inputs\u001b[38;5;241m.\u001b[39mshape[\u001b[38;5;241m-\u001b[39m\u001b[38;5;241m1\u001b[39m] \u001b[38;5;241m!=\u001b[39m \u001b[38;5;241m1\u001b[39m:\n\u001b[1;32m--> 564\u001b[0m         \u001b[38;5;28;01mraise\u001b[39;00m \u001b[38;5;167;01mValueError\u001b[39;00m(\n\u001b[0;32m    565\u001b[0m             \u001b[38;5;124m\"\u001b[39m\u001b[38;5;124mWhen using `TextVectorization` to tokenize strings, \u001b[39m\u001b[38;5;124m\"\u001b[39m\n\u001b[0;32m    566\u001b[0m             \u001b[38;5;124m\"\u001b[39m\u001b[38;5;124mthe input rank must be 1 or the last shape dimension \u001b[39m\u001b[38;5;124m\"\u001b[39m\n\u001b[0;32m    567\u001b[0m             \u001b[38;5;124mf\u001b[39m\u001b[38;5;124m\"\u001b[39m\u001b[38;5;124mmust be 1. Received: inputs.shape=\u001b[39m\u001b[38;5;132;01m{\u001b[39;00minputs\u001b[38;5;241m.\u001b[39mshape\u001b[38;5;132;01m}\u001b[39;00m\u001b[38;5;124m \u001b[39m\u001b[38;5;124m\"\u001b[39m\n\u001b[0;32m    568\u001b[0m             \u001b[38;5;124mf\u001b[39m\u001b[38;5;124m\"\u001b[39m\u001b[38;5;124mwith rank=\u001b[39m\u001b[38;5;132;01m{\u001b[39;00minputs\u001b[38;5;241m.\u001b[39mshape\u001b[38;5;241m.\u001b[39mrank\u001b[38;5;132;01m}\u001b[39;00m\u001b[38;5;124m\"\u001b[39m\n\u001b[0;32m    569\u001b[0m         )\n\u001b[0;32m    570\u001b[0m     \u001b[38;5;28;01melse\u001b[39;00m:\n\u001b[0;32m    571\u001b[0m         inputs \u001b[38;5;241m=\u001b[39m tf\u001b[38;5;241m.\u001b[39msqueeze(inputs, axis\u001b[38;5;241m=\u001b[39m\u001b[38;5;241m-\u001b[39m\u001b[38;5;241m1\u001b[39m)\n",
      "\u001b[1;31mValueError\u001b[0m: Exception encountered when calling layer \"text_vectorization\" (type TextVectorization).\n\nWhen using `TextVectorization` to tokenize strings, the input rank must be 1 or the last shape dimension must be 1. Received: inputs.shape=(None, 1, 2) with rank=3\n\nCall arguments received by layer \"text_vectorization\" (type TextVectorization):\n  • inputs=tf.Tensor(shape=(None, 1, 2), dtype=string)"
     ]
    }
   ],
   "source": [
    "from tensorflow.keras import layers\n",
    "inputs = layers.Input(shape=(1,), dtype=\"string\") # inputs are 1-dimensional strings\n",
    "x = text_vectorizer(inputs) # turn the input text into numbers\n",
    "x = embedding(x) # create an embedding of the numerized numbers\n",
    "x = layers.GlobalAveragePooling1D()(x) # lower the dimensionality of the embedding (try running the model without this layer and see what happens)\n",
    "outputs = layers.Dense(1, activation=\"sigmoid\")(x) # create the output layer, want binary outputs so use sigmoid activation\n",
    "model_1 = tf.keras.Model(inputs, outputs, name=\"model_1_dense\")"
   ]
  },
  {
   "cell_type": "code",
   "execution_count": 78,
   "id": "7b22dc49",
   "metadata": {},
   "outputs": [],
   "source": [
    "model_1.compile(loss=\"binary_crossentropy\",\n",
    "                optimizer=tf.keras.optimizers.Adam(),\n",
    "                metrics=[\"accuracy\"])"
   ]
  },
  {
   "cell_type": "code",
   "execution_count": 79,
   "id": "73d05384",
   "metadata": {},
   "outputs": [
    {
     "name": "stdout",
     "output_type": "stream",
     "text": [
      "Model: \"model_1_dense\"\n",
      "_________________________________________________________________\n",
      " Layer (type)                Output Shape              Param #   \n",
      "=================================================================\n",
      " input_3 (InputLayer)        [(None, 1)]               0         \n",
      "                                                                 \n",
      " text_vectorization (TextVec  (None, None)             0         \n",
      " torization)                                                     \n",
      "                                                                 \n",
      " embedding_1 (Embedding)     (None, None, 128)         1280000   \n",
      "                                                                 \n",
      " global_average_pooling1d_1   (None, 128)              0         \n",
      " (GlobalAveragePooling1D)                                        \n",
      "                                                                 \n",
      " dense_1 (Dense)             (None, 1)                 129       \n",
      "                                                                 \n",
      "=================================================================\n",
      "Total params: 1,280,129\n",
      "Trainable params: 1,280,129\n",
      "Non-trainable params: 0\n",
      "_________________________________________________________________\n"
     ]
    }
   ],
   "source": [
    "model_1.summary()"
   ]
  },
  {
   "cell_type": "code",
   "execution_count": 75,
   "id": "ed17ab83",
   "metadata": {},
   "outputs": [
    {
     "name": "stdout",
     "output_type": "stream",
     "text": [
      "Epoch 1/5\n",
      "WARNING:tensorflow:Model was constructed with shape (None, 1) for input KerasTensor(type_spec=TensorSpec(shape=(None, 1), dtype=tf.string, name='input_1'), name='input_1', description=\"created by layer 'input_1'\"), but it was called on an input with incompatible shape (32, 2).\n"
     ]
    },
    {
     "ename": "ValueError",
     "evalue": "in user code:\n\n    File \"C:\\Users\\Ajmer\\anaconda3\\envs\\semantic_similarity\\lib\\site-packages\\keras\\engine\\training.py\", line 1160, in train_function  *\n        return step_function(self, iterator)\n    File \"C:\\Users\\Ajmer\\anaconda3\\envs\\semantic_similarity\\lib\\site-packages\\keras\\engine\\training.py\", line 1146, in step_function  **\n        outputs = model.distribute_strategy.run(run_step, args=(data,))\n    File \"C:\\Users\\Ajmer\\anaconda3\\envs\\semantic_similarity\\lib\\site-packages\\keras\\engine\\training.py\", line 1135, in run_step  **\n        outputs = model.train_step(data)\n    File \"C:\\Users\\Ajmer\\anaconda3\\envs\\semantic_similarity\\lib\\site-packages\\keras\\engine\\training.py\", line 993, in train_step\n        y_pred = self(x, training=True)\n    File \"C:\\Users\\Ajmer\\anaconda3\\envs\\semantic_similarity\\lib\\site-packages\\keras\\utils\\traceback_utils.py\", line 70, in error_handler\n        raise e.with_traceback(filtered_tb) from None\n    File \"C:\\Users\\Ajmer\\anaconda3\\envs\\semantic_similarity\\lib\\site-packages\\keras\\layers\\preprocessing\\text_vectorization.py\", line 564, in _preprocess\n        raise ValueError(\n\n    ValueError: Exception encountered when calling layer \"text_vectorization\" \"                 f\"(type TextVectorization).\n    \n    When using `TextVectorization` to tokenize strings, the input rank must be 1 or the last shape dimension must be 1. Received: inputs.shape=(32, 2) with rank=2\n    \n    Call arguments received by layer \"text_vectorization\" \"                 f\"(type TextVectorization):\n      • inputs=tf.Tensor(shape=(32, 2), dtype=string)\n",
     "output_type": "error",
     "traceback": [
      "\u001b[1;31m---------------------------------------------------------------------------\u001b[0m",
      "\u001b[1;31mValueError\u001b[0m                                Traceback (most recent call last)",
      "Cell \u001b[1;32mIn [75], line 1\u001b[0m\n\u001b[1;32m----> 1\u001b[0m model_1_history \u001b[38;5;241m=\u001b[39m \u001b[43mmodel_1\u001b[49m\u001b[38;5;241;43m.\u001b[39;49m\u001b[43mfit\u001b[49m\u001b[43m(\u001b[49m\u001b[43mX_train\u001b[49m\u001b[43m,\u001b[49m\u001b[43m \u001b[49m\u001b[43my_train\u001b[49m\u001b[43m,\u001b[49m\u001b[43mepochs\u001b[49m\u001b[38;5;241;43m=\u001b[39;49m\u001b[38;5;241;43m5\u001b[39;49m\u001b[43m)\u001b[49m\n",
      "File \u001b[1;32m~\\anaconda3\\envs\\semantic_similarity\\lib\\site-packages\\keras\\utils\\traceback_utils.py:70\u001b[0m, in \u001b[0;36mfilter_traceback.<locals>.error_handler\u001b[1;34m(*args, **kwargs)\u001b[0m\n\u001b[0;32m     67\u001b[0m     filtered_tb \u001b[38;5;241m=\u001b[39m _process_traceback_frames(e\u001b[38;5;241m.\u001b[39m__traceback__)\n\u001b[0;32m     68\u001b[0m     \u001b[38;5;66;03m# To get the full stack trace, call:\u001b[39;00m\n\u001b[0;32m     69\u001b[0m     \u001b[38;5;66;03m# `tf.debugging.disable_traceback_filtering()`\u001b[39;00m\n\u001b[1;32m---> 70\u001b[0m     \u001b[38;5;28;01mraise\u001b[39;00m e\u001b[38;5;241m.\u001b[39mwith_traceback(filtered_tb) \u001b[38;5;28;01mfrom\u001b[39;00m \u001b[38;5;28mNone\u001b[39m\n\u001b[0;32m     71\u001b[0m \u001b[38;5;28;01mfinally\u001b[39;00m:\n\u001b[0;32m     72\u001b[0m     \u001b[38;5;28;01mdel\u001b[39;00m filtered_tb\n",
      "File \u001b[1;32m~\\AppData\\Local\\Temp\\__autograph_generated_fileevfa1wbe.py:15\u001b[0m, in \u001b[0;36mouter_factory.<locals>.inner_factory.<locals>.tf__train_function\u001b[1;34m(iterator)\u001b[0m\n\u001b[0;32m     13\u001b[0m \u001b[38;5;28;01mtry\u001b[39;00m:\n\u001b[0;32m     14\u001b[0m     do_return \u001b[38;5;241m=\u001b[39m \u001b[38;5;28;01mTrue\u001b[39;00m\n\u001b[1;32m---> 15\u001b[0m     retval_ \u001b[38;5;241m=\u001b[39m ag__\u001b[38;5;241m.\u001b[39mconverted_call(ag__\u001b[38;5;241m.\u001b[39mld(step_function), (ag__\u001b[38;5;241m.\u001b[39mld(\u001b[38;5;28mself\u001b[39m), ag__\u001b[38;5;241m.\u001b[39mld(iterator)), \u001b[38;5;28;01mNone\u001b[39;00m, fscope)\n\u001b[0;32m     16\u001b[0m \u001b[38;5;28;01mexcept\u001b[39;00m:\n\u001b[0;32m     17\u001b[0m     do_return \u001b[38;5;241m=\u001b[39m \u001b[38;5;28;01mFalse\u001b[39;00m\n",
      "\u001b[1;31mValueError\u001b[0m: in user code:\n\n    File \"C:\\Users\\Ajmer\\anaconda3\\envs\\semantic_similarity\\lib\\site-packages\\keras\\engine\\training.py\", line 1160, in train_function  *\n        return step_function(self, iterator)\n    File \"C:\\Users\\Ajmer\\anaconda3\\envs\\semantic_similarity\\lib\\site-packages\\keras\\engine\\training.py\", line 1146, in step_function  **\n        outputs = model.distribute_strategy.run(run_step, args=(data,))\n    File \"C:\\Users\\Ajmer\\anaconda3\\envs\\semantic_similarity\\lib\\site-packages\\keras\\engine\\training.py\", line 1135, in run_step  **\n        outputs = model.train_step(data)\n    File \"C:\\Users\\Ajmer\\anaconda3\\envs\\semantic_similarity\\lib\\site-packages\\keras\\engine\\training.py\", line 993, in train_step\n        y_pred = self(x, training=True)\n    File \"C:\\Users\\Ajmer\\anaconda3\\envs\\semantic_similarity\\lib\\site-packages\\keras\\utils\\traceback_utils.py\", line 70, in error_handler\n        raise e.with_traceback(filtered_tb) from None\n    File \"C:\\Users\\Ajmer\\anaconda3\\envs\\semantic_similarity\\lib\\site-packages\\keras\\layers\\preprocessing\\text_vectorization.py\", line 564, in _preprocess\n        raise ValueError(\n\n    ValueError: Exception encountered when calling layer \"text_vectorization\" \"                 f\"(type TextVectorization).\n    \n    When using `TextVectorization` to tokenize strings, the input rank must be 1 or the last shape dimension must be 1. Received: inputs.shape=(32, 2) with rank=2\n    \n    Call arguments received by layer \"text_vectorization\" \"                 f\"(type TextVectorization):\n      • inputs=tf.Tensor(shape=(32, 2), dtype=string)\n"
     ]
    }
   ],
   "source": [
    "model_1_history = model_1.fit(X_train, y_train,epochs=5)"
   ]
  },
  {
   "cell_type": "code",
   "execution_count": null,
   "id": "cfd15d69",
   "metadata": {},
   "outputs": [],
   "source": []
  },
  {
   "cell_type": "code",
   "execution_count": null,
   "id": "5b4c1d47",
   "metadata": {},
   "outputs": [],
   "source": []
  },
  {
   "cell_type": "code",
   "execution_count": null,
   "id": "3a715fe5",
   "metadata": {},
   "outputs": [],
   "source": []
  },
  {
   "cell_type": "code",
   "execution_count": null,
   "id": "33683d48",
   "metadata": {},
   "outputs": [],
   "source": []
  },
  {
   "cell_type": "code",
   "execution_count": null,
   "id": "ab83c9e0",
   "metadata": {},
   "outputs": [],
   "source": []
  },
  {
   "cell_type": "code",
   "execution_count": null,
   "id": "1fa7a2fd",
   "metadata": {},
   "outputs": [],
   "source": []
  }
 ],
 "metadata": {
  "kernelspec": {
   "display_name": "sim",
   "language": "python",
   "name": "sim"
  },
  "language_info": {
   "codemirror_mode": {
    "name": "ipython",
    "version": 3
   },
   "file_extension": ".py",
   "mimetype": "text/x-python",
   "name": "python",
   "nbconvert_exporter": "python",
   "pygments_lexer": "ipython3",
   "version": "3.8.13"
  }
 },
 "nbformat": 4,
 "nbformat_minor": 5
}
